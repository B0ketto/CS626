{
  "cells": [
    {
      "cell_type": "markdown",
      "id": "8cd8ffea-81d9-43cd-bb67-ad5748383c30",
      "metadata": {
        "id": "8cd8ffea-81d9-43cd-bb67-ad5748383c30"
      },
      "source": [
        "# Named Entity Identification Using SVM Classifier\n",
        "This notebook implements an SVM-based Named Entity Identification system using the CoNLL-2003 dataset and custom feature engineering.\n",
        "\n",
        "**Input**: A sentence.  \n",
        "**Output**: Each word labeled as Name (1) or No Name (0).\n",
        "\n",
        "**Example**:  \n",
        "- **Input**: \"Washington DC is the capital of United States of America\"  \n",
        "- **Output**: \"Washington_1 DC_1 is_0 the_0 capital_0 of_0 United_1 States_1 of_0 America_1\""
      ]
    },
    {
      "cell_type": "code",
      "execution_count": null,
      "id": "8a2ca5da-66af-4aa3-8c34-313fef60a919",
      "metadata": {
        "colab": {
          "base_uri": "https://localhost:8080/"
        },
        "id": "8a2ca5da-66af-4aa3-8c34-313fef60a919",
        "outputId": "2e2e28d8-e5ff-4715-c599-284e7eedbded"
      },
      "outputs": [
        {
          "output_type": "stream",
          "name": "stdout",
          "text": [
            "Collecting datasets\n",
            "  Downloading datasets-3.1.0-py3-none-any.whl.metadata (20 kB)\n",
            "Requirement already satisfied: filelock in /usr/local/lib/python3.10/dist-packages (from datasets) (3.16.1)\n",
            "Requirement already satisfied: numpy>=1.17 in /usr/local/lib/python3.10/dist-packages (from datasets) (1.26.4)\n",
            "Requirement already satisfied: pyarrow>=15.0.0 in /usr/local/lib/python3.10/dist-packages (from datasets) (17.0.0)\n",
            "Collecting dill<0.3.9,>=0.3.0 (from datasets)\n",
            "  Downloading dill-0.3.8-py3-none-any.whl.metadata (10 kB)\n",
            "Requirement already satisfied: pandas in /usr/local/lib/python3.10/dist-packages (from datasets) (2.2.2)\n",
            "Requirement already satisfied: requests>=2.32.2 in /usr/local/lib/python3.10/dist-packages (from datasets) (2.32.3)\n",
            "Requirement already satisfied: tqdm>=4.66.3 in /usr/local/lib/python3.10/dist-packages (from datasets) (4.66.6)\n",
            "Collecting xxhash (from datasets)\n",
            "  Downloading xxhash-3.5.0-cp310-cp310-manylinux_2_17_x86_64.manylinux2014_x86_64.whl.metadata (12 kB)\n",
            "Collecting multiprocess<0.70.17 (from datasets)\n",
            "  Downloading multiprocess-0.70.16-py310-none-any.whl.metadata (7.2 kB)\n",
            "Collecting fsspec<=2024.9.0,>=2023.1.0 (from fsspec[http]<=2024.9.0,>=2023.1.0->datasets)\n",
            "  Downloading fsspec-2024.9.0-py3-none-any.whl.metadata (11 kB)\n",
            "Requirement already satisfied: aiohttp in /usr/local/lib/python3.10/dist-packages (from datasets) (3.10.10)\n",
            "Requirement already satisfied: huggingface-hub>=0.23.0 in /usr/local/lib/python3.10/dist-packages (from datasets) (0.24.7)\n",
            "Requirement already satisfied: packaging in /usr/local/lib/python3.10/dist-packages (from datasets) (24.1)\n",
            "Requirement already satisfied: pyyaml>=5.1 in /usr/local/lib/python3.10/dist-packages (from datasets) (6.0.2)\n",
            "Requirement already satisfied: aiohappyeyeballs>=2.3.0 in /usr/local/lib/python3.10/dist-packages (from aiohttp->datasets) (2.4.3)\n",
            "Requirement already satisfied: aiosignal>=1.1.2 in /usr/local/lib/python3.10/dist-packages (from aiohttp->datasets) (1.3.1)\n",
            "Requirement already satisfied: attrs>=17.3.0 in /usr/local/lib/python3.10/dist-packages (from aiohttp->datasets) (24.2.0)\n",
            "Requirement already satisfied: frozenlist>=1.1.1 in /usr/local/lib/python3.10/dist-packages (from aiohttp->datasets) (1.5.0)\n",
            "Requirement already satisfied: multidict<7.0,>=4.5 in /usr/local/lib/python3.10/dist-packages (from aiohttp->datasets) (6.1.0)\n",
            "Requirement already satisfied: yarl<2.0,>=1.12.0 in /usr/local/lib/python3.10/dist-packages (from aiohttp->datasets) (1.17.0)\n",
            "Requirement already satisfied: async-timeout<5.0,>=4.0 in /usr/local/lib/python3.10/dist-packages (from aiohttp->datasets) (4.0.3)\n",
            "Requirement already satisfied: typing-extensions>=3.7.4.3 in /usr/local/lib/python3.10/dist-packages (from huggingface-hub>=0.23.0->datasets) (4.12.2)\n",
            "Requirement already satisfied: charset-normalizer<4,>=2 in /usr/local/lib/python3.10/dist-packages (from requests>=2.32.2->datasets) (3.4.0)\n",
            "Requirement already satisfied: idna<4,>=2.5 in /usr/local/lib/python3.10/dist-packages (from requests>=2.32.2->datasets) (3.10)\n",
            "Requirement already satisfied: urllib3<3,>=1.21.1 in /usr/local/lib/python3.10/dist-packages (from requests>=2.32.2->datasets) (2.2.3)\n",
            "Requirement already satisfied: certifi>=2017.4.17 in /usr/local/lib/python3.10/dist-packages (from requests>=2.32.2->datasets) (2024.8.30)\n",
            "Requirement already satisfied: python-dateutil>=2.8.2 in /usr/local/lib/python3.10/dist-packages (from pandas->datasets) (2.8.2)\n",
            "Requirement already satisfied: pytz>=2020.1 in /usr/local/lib/python3.10/dist-packages (from pandas->datasets) (2024.2)\n",
            "Requirement already satisfied: tzdata>=2022.7 in /usr/local/lib/python3.10/dist-packages (from pandas->datasets) (2024.2)\n",
            "Requirement already satisfied: six>=1.5 in /usr/local/lib/python3.10/dist-packages (from python-dateutil>=2.8.2->pandas->datasets) (1.16.0)\n",
            "Requirement already satisfied: propcache>=0.2.0 in /usr/local/lib/python3.10/dist-packages (from yarl<2.0,>=1.12.0->aiohttp->datasets) (0.2.0)\n",
            "Downloading datasets-3.1.0-py3-none-any.whl (480 kB)\n",
            "\u001b[2K   \u001b[90m━━━━━━━━━━━━━━━━━━━━━━━━━━━━━━━━━━━━━━━━\u001b[0m \u001b[32m480.6/480.6 kB\u001b[0m \u001b[31m6.5 MB/s\u001b[0m eta \u001b[36m0:00:00\u001b[0m\n",
            "\u001b[?25hDownloading dill-0.3.8-py3-none-any.whl (116 kB)\n",
            "\u001b[2K   \u001b[90m━━━━━━━━━━━━━━━━━━━━━━━━━━━━━━━━━━━━━━━━\u001b[0m \u001b[32m116.3/116.3 kB\u001b[0m \u001b[31m7.6 MB/s\u001b[0m eta \u001b[36m0:00:00\u001b[0m\n",
            "\u001b[?25hDownloading fsspec-2024.9.0-py3-none-any.whl (179 kB)\n",
            "\u001b[2K   \u001b[90m━━━━━━━━━━━━━━━━━━━━━━━━━━━━━━━━━━━━━━━━\u001b[0m \u001b[32m179.3/179.3 kB\u001b[0m \u001b[31m11.3 MB/s\u001b[0m eta \u001b[36m0:00:00\u001b[0m\n",
            "\u001b[?25hDownloading multiprocess-0.70.16-py310-none-any.whl (134 kB)\n",
            "\u001b[2K   \u001b[90m━━━━━━━━━━━━━━━━━━━━━━━━━━━━━━━━━━━━━━━━\u001b[0m \u001b[32m134.8/134.8 kB\u001b[0m \u001b[31m3.9 MB/s\u001b[0m eta \u001b[36m0:00:00\u001b[0m\n",
            "\u001b[?25hDownloading xxhash-3.5.0-cp310-cp310-manylinux_2_17_x86_64.manylinux2014_x86_64.whl (194 kB)\n",
            "\u001b[2K   \u001b[90m━━━━━━━━━━━━━━━━━━━━━━━━━━━━━━━━━━━━━━━━\u001b[0m \u001b[32m194.1/194.1 kB\u001b[0m \u001b[31m9.4 MB/s\u001b[0m eta \u001b[36m0:00:00\u001b[0m\n",
            "\u001b[?25hInstalling collected packages: xxhash, fsspec, dill, multiprocess, datasets\n",
            "  Attempting uninstall: fsspec\n",
            "    Found existing installation: fsspec 2024.10.0\n",
            "    Uninstalling fsspec-2024.10.0:\n",
            "      Successfully uninstalled fsspec-2024.10.0\n",
            "\u001b[31mERROR: pip's dependency resolver does not currently take into account all the packages that are installed. This behaviour is the source of the following dependency conflicts.\n",
            "gcsfs 2024.10.0 requires fsspec==2024.10.0, but you have fsspec 2024.9.0 which is incompatible.\u001b[0m\u001b[31m\n",
            "\u001b[0mSuccessfully installed datasets-3.1.0 dill-0.3.8 fsspec-2024.9.0 multiprocess-0.70.16 xxhash-3.5.0\n"
          ]
        }
      ],
      "source": [
        "!pip install datasets"
      ]
    },
    {
      "cell_type": "code",
      "execution_count": null,
      "id": "3a79afc7-b698-4798-89bb-b97b597b4544",
      "metadata": {
        "colab": {
          "base_uri": "https://localhost:8080/",
          "height": 278,
          "referenced_widgets": [
            "149f9eda9c9b42f988f12cb68d226ac3",
            "b59e291fdee8483c928b113d1529ac75",
            "b9dc8bf4292c4a22bf551b8f63e69cb6",
            "0f83bbd3d28a4848be06658cb84dabc5",
            "e11d456fce2642bea928301f6254d1db",
            "eead5a1c2417400d8ea58556096bfdba",
            "837b991fb2ac4306b62629f32edc90b2",
            "2eca5d05c65a4d53970fef800b79aad8",
            "c08529eb378a4964a724a3b891b9b534",
            "f1f007b25be14c32b82f39f07383dfc8",
            "bc34360bcc044fd59ff3bd858037ee19",
            "011bec59665040338962837b522b55f6",
            "5d99cf1e3960497b8f48f6badac758ea",
            "ed76a999f7a14da88fc385b09450a089",
            "0f5f5cc788b84e8e85e9d93c6b143d9b",
            "79adfc6ae17d4f8e8d1e2cbdbfbdb9df",
            "1fc48b420f6044a58266edb59c363404",
            "b26a890f13f64df1941da9ec7f41003a",
            "7d6f98a73f4c42a0812a31596a5eb019",
            "9296acab5e314228b46106f93c1f7fa2",
            "59f4b2c167204cc1998ddc850fecb87f",
            "03d57b336729476e8c538097dd9a8e11",
            "bf3e4d47dc0e4aa6a54d21af5573433a",
            "10dace58d2fc477494955f9a7a92ecb7",
            "4facb3b72dea4f36937e58c9b370c47e",
            "ee0f467cff654f1a9dfa03b9b5d9a803",
            "c888d33f216e4ebea64eac9fc2c42839",
            "52f1afbca69147b9b4e8364458cda115",
            "7713e8e04ac84eee997765c1f0264ac9",
            "4ef5700522f64323a9e12e37e5bf2b42",
            "acc4e24ed93e4b8a98796f5589c029d6",
            "a50f04db3da54cc194c1d200b2075e7c",
            "21085bb1d03946838f57deb6d29f7d3c",
            "bb1622e980524d5d8caad00922d7f192",
            "f321bf9be23c418a96bbde4e6961c3fd",
            "7ebafd2fe4614e22a6b9ded9293d5ebb",
            "39666be05b394c1c9f28dc34d581e712",
            "0819568ca65542d7a33bca3cb30b97a2",
            "6eb3164b4e044ecbac4d4cb3f6a53869",
            "30bf9e65a0d44050bb0b0ee0f7bc9f47",
            "5028b28e16164fa883ff7b63ec049860",
            "cc27763fe4594c90b47322dba21627a7",
            "952c1a4cd5694b63b71509f6e5825991",
            "4294ea50d3244b86b39f37863a84c1af",
            "9a9b76b8772c4651a36dc7906cce9ef3",
            "9201334c34ea4a8a93f452726f3819b0",
            "d1d1689fdebc415db840f72ad2b91f53",
            "744d3459b7094b758909d0d88da3271f",
            "33be4043054e47f5b3634202ba89a6e2",
            "3514bcc72d074b6ea096843d8dae4ca2",
            "f80e45772849445f92cd5f05a6d29281",
            "749b789eac5a413cadaa329cfedf9e7b",
            "4ebee86253554c74af22e5e407cace6e",
            "b4c70e28c289438388cba60fbc144307",
            "014e6f79986e4932a5413f7253d36d02",
            "cb7c5d8bf22c484cbb81aac8b7346d3b",
            "16fe0819811d4baf97249b063ad87dc1",
            "4ab9cdf7f0364836ba942af39bb8283f",
            "314d78e548f04d0882bcd06b979be6df",
            "07c54f4564944a9ca37158625a9f29c1",
            "e0a82ada878d462db2e176dac768ba3f",
            "3f5717dcf9c7484db00cfec752f4c285",
            "45c23af0b4474c678a2526ee6e419963",
            "49da92b04e464dfe80004a847641eec6",
            "a899d4873a664fd5a9ff999e2f756c4e",
            "41b75b4d45bd42f7bdd6194db8501b16"
          ]
        },
        "id": "3a79afc7-b698-4798-89bb-b97b597b4544",
        "outputId": "441ba1c4-249b-4a76-db81-52dbb71a285f"
      },
      "outputs": [
        {
          "output_type": "display_data",
          "data": {
            "text/plain": [
              "README.md:   0%|          | 0.00/12.3k [00:00<?, ?B/s]"
            ],
            "application/vnd.jupyter.widget-view+json": {
              "version_major": 2,
              "version_minor": 0,
              "model_id": "149f9eda9c9b42f988f12cb68d226ac3"
            }
          },
          "metadata": {}
        },
        {
          "output_type": "display_data",
          "data": {
            "text/plain": [
              "conll2003.py:   0%|          | 0.00/9.57k [00:00<?, ?B/s]"
            ],
            "application/vnd.jupyter.widget-view+json": {
              "version_major": 2,
              "version_minor": 0,
              "model_id": "011bec59665040338962837b522b55f6"
            }
          },
          "metadata": {}
        },
        {
          "name": "stdout",
          "output_type": "stream",
          "text": [
            "The repository for conll2003 contains custom code which must be executed to correctly load the dataset. You can inspect the repository content at https://hf.co/datasets/conll2003.\n",
            "You can avoid this prompt in future by passing the argument `trust_remote_code=True`.\n",
            "\n",
            "Do you wish to run the custom code? [y/N] y\n"
          ]
        },
        {
          "output_type": "display_data",
          "data": {
            "text/plain": [
              "Downloading data:   0%|          | 0.00/983k [00:00<?, ?B/s]"
            ],
            "application/vnd.jupyter.widget-view+json": {
              "version_major": 2,
              "version_minor": 0,
              "model_id": "bf3e4d47dc0e4aa6a54d21af5573433a"
            }
          },
          "metadata": {}
        },
        {
          "output_type": "display_data",
          "data": {
            "text/plain": [
              "Generating train split:   0%|          | 0/14041 [00:00<?, ? examples/s]"
            ],
            "application/vnd.jupyter.widget-view+json": {
              "version_major": 2,
              "version_minor": 0,
              "model_id": "bb1622e980524d5d8caad00922d7f192"
            }
          },
          "metadata": {}
        },
        {
          "output_type": "display_data",
          "data": {
            "text/plain": [
              "Generating validation split:   0%|          | 0/3250 [00:00<?, ? examples/s]"
            ],
            "application/vnd.jupyter.widget-view+json": {
              "version_major": 2,
              "version_minor": 0,
              "model_id": "9a9b76b8772c4651a36dc7906cce9ef3"
            }
          },
          "metadata": {}
        },
        {
          "output_type": "display_data",
          "data": {
            "text/plain": [
              "Generating test split:   0%|          | 0/3453 [00:00<?, ? examples/s]"
            ],
            "application/vnd.jupyter.widget-view+json": {
              "version_major": 2,
              "version_minor": 0,
              "model_id": "cb7c5d8bf22c484cbb81aac8b7346d3b"
            }
          },
          "metadata": {}
        }
      ],
      "source": [
        "from datasets import load_dataset\n",
        "\n",
        "dataset = load_dataset(\"conll2003\")"
      ]
    },
    {
      "cell_type": "code",
      "execution_count": null,
      "id": "121eda33-7bcd-443c-8c66-500524d4ef6a",
      "metadata": {
        "colab": {
          "base_uri": "https://localhost:8080/"
        },
        "id": "121eda33-7bcd-443c-8c66-500524d4ef6a",
        "outputId": "08f6235a-d345-4baf-90f4-aef610644346"
      },
      "outputs": [
        {
          "output_type": "stream",
          "name": "stdout",
          "text": [
            "{'id': '0', 'tokens': ['EU', 'rejects', 'German', 'call', 'to', 'boycott', 'British', 'lamb', '.'], 'ner_tags': [3, 0, 7, 0, 0, 0, 7, 0, 0]}\n"
          ]
        }
      ],
      "source": [
        "\n",
        "dataset = {'train':[{'id':x['id'],'tokens':x['tokens'],'ner_tags':x['ner_tags']} for x in dataset['train']],'test':[{'id':x['id'],'tokens':x['tokens'],'ner_tags':x['ner_tags']} for x in dataset['test']]}\n",
        "print(dataset['train'][0])\n",
        "train_data = [(x['tokens'],x['ner_tags']) for x in dataset['train']]"
      ]
    },
    {
      "cell_type": "code",
      "execution_count": null,
      "id": "87328d00-6443-4e1e-8eb0-4000073da6a8",
      "metadata": {
        "colab": {
          "base_uri": "https://localhost:8080/"
        },
        "id": "87328d00-6443-4e1e-8eb0-4000073da6a8",
        "outputId": "5785fb2a-f0e8-45f4-99de-1fb22c492410"
      },
      "outputs": [
        {
          "output_type": "stream",
          "name": "stdout",
          "text": [
            "{'id': '0', 'tokens': ['EU', 'rejects', 'German', 'call', 'to', 'boycott', 'British', 'lamb', '.'], 'ner_tags': [3, 0, 7, 0, 0, 0, 7, 0, 0]}\n",
            "EU\n"
          ]
        }
      ],
      "source": [
        "sent = dataset['train'][0]\n",
        "word = sent['tokens'][0]\n",
        "print(sent)\n",
        "print(word)"
      ]
    },
    {
      "cell_type": "code",
      "execution_count": null,
      "id": "adeac2ca-47ac-468d-b67b-5831d52b3412",
      "metadata": {
        "id": "adeac2ca-47ac-468d-b67b-5831d52b3412"
      },
      "outputs": [],
      "source": [
        "percentage_dict = [0 for _ in range(101)]\n",
        "percentage_indices = [[] for _ in range(101)]\n",
        "for sent in dataset['train']:\n",
        "    tags = sent['ner_tags']\n",
        "    percent = 100-(tags.count(0)*100)//len(tags)\n",
        "    percentage_dict[percent]+=1\n",
        "    percentage_indices[percent].append(int(sent['id']))"
      ]
    },
    {
      "cell_type": "code",
      "execution_count": null,
      "id": "775f39db-300e-48f8-b777-a062f9d0e6a7",
      "metadata": {
        "id": "775f39db-300e-48f8-b777-a062f9d0e6a7"
      },
      "outputs": [],
      "source": [
        "#print(*[(i,j) for i,j in percentage_dict.items()],sep='\\n')\n",
        "from matplotlib import pyplot as plt\n",
        "%matplotlib inline"
      ]
    },
    {
      "cell_type": "code",
      "execution_count": null,
      "id": "56565fc2-9d83-4b4a-b538-6fd007b744db",
      "metadata": {
        "colab": {
          "base_uri": "https://localhost:8080/",
          "height": 466
        },
        "id": "56565fc2-9d83-4b4a-b538-6fd007b744db",
        "outputId": "3b2ca4ec-1682-45a0-b4c7-f9c34fb678cc"
      },
      "outputs": [
        {
          "output_type": "display_data",
          "data": {
            "text/plain": [
              "<Figure size 640x480 with 1 Axes>"
            ],
            "image/png": "[encoded data removed]"
          },
          "metadata": {}
        },
        {
          "output_type": "stream",
          "name": "stdout",
          "text": [
            "Number of sentence with more than 50% of words as entites is 2560\n"
          ]
        }
      ],
      "source": [
        "total_sents = sum(percentage_dict)\n",
        "sent_count = half = third = two_third = 0\n",
        "\n",
        "for i in range(0,101):\n",
        "    sent_count += percentage_dict[i]\n",
        "    if not two_third:\n",
        "        if sent_count > total_sents * 2/3:\n",
        "            two_third = i\n",
        "        if not half:\n",
        "            if sent_count > total_sents * 1/2:\n",
        "                half = i\n",
        "            if not third:\n",
        "                if sent_count > 1/3*total_sents:\n",
        "                    third = i\n",
        "plt.axvline(x=third,label='0.33 percentile',color='g')\n",
        "plt.axvline(x=half,label='0.5 percentile',color='r')\n",
        "plt.axvline(x=two_third,label='0.66 percentile',color='g')\n",
        "plt.plot(percentage_dict)\n",
        "plt.xlabel('percentage of entities in sentence')\n",
        "plt.ylabel('number of sentences')\n",
        "plt.show()\n",
        "print(f'Number of sentence with more than 50% of words as entites is {sum(percentage_dict[50:])}')\n"
      ]
    },
    {
      "cell_type": "code",
      "execution_count": null,
      "id": "051e53ea-74f6-4d04-adec-306fea2ad5ca",
      "metadata": {
        "colab": {
          "base_uri": "https://localhost:8080/"
        },
        "id": "051e53ea-74f6-4d04-adec-306fea2ad5ca",
        "outputId": "6c5ba6f7-c999-4b56-aa1d-63ff83d68e23"
      },
      "outputs": [
        {
          "output_type": "stream",
          "name": "stdout",
          "text": [
            "14040\n",
            "19161\n"
          ]
        }
      ],
      "source": [
        "\n",
        "ind = len(dataset['train'])-1\n",
        "duplicate_data = []\n",
        "print(ind)\n",
        "for i in range(50,101):\n",
        "    for j in percentage_indices[i]:\n",
        "        new_element = dataset['train'][j]\n",
        "        ind+=1\n",
        "        new_element['id'] = ind\n",
        "        dataset['train'].append(new_element)\n",
        "        ind+=1\n",
        "        new_element['id'] = ind\n",
        "        dataset['train'].append(new_element)\n",
        "print(len(dataset['train']))"
      ]
    },
    {
      "cell_type": "code",
      "execution_count": null,
      "id": "602ece21-fea3-45b7-9598-3904d138e7d8",
      "metadata": {
        "id": "602ece21-fea3-45b7-9598-3904d138e7d8"
      },
      "outputs": [],
      "source": [
        "\n",
        "%%capture\n",
        "import nltk\n",
        "from nltk.tag import pos_tag\n",
        "from nltk.tokenize import word_tokenize\n",
        "nltk.download('punkt')\n",
        "nltk.download('averaged_perceptron_tagger')"
      ]
    },
    {
      "cell_type": "code",
      "execution_count": null,
      "id": "e5758db8-41c9-4bfb-9c10-057000d3627b",
      "metadata": {
        "id": "e5758db8-41c9-4bfb-9c10-057000d3627b"
      },
      "outputs": [],
      "source": [
        "def w2f(sentence,pos_tags,i):\n",
        "  postag = pos_tags[i]\n",
        "  word = sentence[i]\n",
        "  lword = word.lower()\n",
        "  #chunktag = sent['chunk_tags'][i]\n",
        "\n",
        "  features = {\n",
        "      'postag'  : str(postag),\n",
        "      #'chunktag': str(chunktag),\n",
        "      'istitle' : word.istitle(),\n",
        "      'isupper' : word.isupper(),\n",
        "      'length'  : len(word),\n",
        "      'isdigit' : word.isdigit(),\n",
        "      '1suffix' : lword[-1:],\n",
        "      '2suffix' : lword[-2:],\n",
        "      '3suffix' : lword[-3:],\n",
        "      '4suffix' : lword[-4:],\n",
        "      '1prefix' : lword[:1],\n",
        "      '2prefix' : lword[:2],\n",
        "      '3prefix' : lword[:3],\n",
        "      '4prefix' : lword[:4]\n",
        "  }\n",
        "\n",
        "  if i > 0:\n",
        "    prevword = sentence[i-1]\n",
        "    prevpostag = pos_tags[i-1]\n",
        "    #prevchunktag = sent['chunk_tags'][i-1]\n",
        "\n",
        "    features.update({\n",
        "        'prevpostag'  : str(prevpostag),\n",
        "        #'prevchunktag': str(prevchunktag),\n",
        "        #'prevword'    : prevword.lower(),\n",
        "        'previsupper' : prevword.isupper(),\n",
        "        'previstitle' : prevword.istitle(),\n",
        "        'prevdigit'   : prevword.isdigit(),\n",
        "        'begin'       : False\n",
        "    })\n",
        "  else:\n",
        "    features.update({\n",
        "        'begin' : True\n",
        "    })\n",
        "\n",
        "  if i < len(sentence)-1:\n",
        "    nextword = sentence[i+1]\n",
        "    nextpostag = pos_tags[i+1]\n",
        "    #nextchunktag = sent['chunk_tags'][i+1]\n",
        "\n",
        "    features.update({\n",
        "        'nextpostag'  : str(nextpostag),\n",
        "        #'nextchunktag': str(nextchunktag),\n",
        "        #'nextword'    : nextword.lower(),\n",
        "        'nextisupper' : nextword.isupper(),\n",
        "        'nextistitle' : nextword.istitle(),\n",
        "        'nextdigit'   : nextword.isdigit(),\n",
        "        'end'         : False\n",
        "    })\n",
        "  else:\n",
        "    features.update({\n",
        "        'end' : True\n",
        "    })\n",
        "  return features\n",
        "\n",
        "def s2f(sent):\n",
        "  pos_tags = [x[1] for x in pos_tag(sent)]\n",
        "  return [w2f(sent['tokens'],pos_tags,i) for i in range(len(sent['tokens']))]\n",
        "\n",
        "def s2t(sent):\n",
        "  return [1 if (ner_tag > 0) else 0 for ner_tag in sent['ner_tags']]\n",
        "\n",
        "def w2t(sent,i):\n",
        "  return 1 if (sent['ner_tags'][i] > 0) else 0"
      ]
    },
    {
      "cell_type": "code",
      "execution_count": null,
      "id": "9d4b5bef-c271-48f3-8a4b-5133abaf8062",
      "metadata": {
        "colab": {
          "base_uri": "https://localhost:8080/"
        },
        "id": "9d4b5bef-c271-48f3-8a4b-5133abaf8062",
        "outputId": "ce62c3e6-b3fb-4589-d369-3ec03021ec77"
      },
      "outputs": [
        {
          "output_type": "stream",
          "name": "stdout",
          "text": [
            "19161\n",
            "3453\n"
          ]
        }
      ],
      "source": [
        "\n",
        "print(len(dataset['train']))\n",
        "print(len(dataset['test']))"
      ]
    },
    {
      "cell_type": "code",
      "execution_count": null,
      "id": "a8652a76-a041-46e1-9b25-e31eab28879e",
      "metadata": {
        "colab": {
          "base_uri": "https://localhost:8080/"
        },
        "id": "a8652a76-a041-46e1-9b25-e31eab28879e",
        "outputId": "4ec625b0-dd6b-446e-8e7f-d984ce1b0f58"
      },
      "outputs": [
        {
          "output_type": "stream",
          "name": "stdout",
          "text": [
            "229171 229171\n"
          ]
        }
      ],
      "source": [
        "\n",
        "X_train,Ytrain = [],[]\n",
        "for sent in dataset['train']:\n",
        "    pos_tags = [x[1] for x in pos_tag(sent['tokens'])]\n",
        "    for i in range(len(pos_tags)):\n",
        "        X_train.append(w2f(sent['tokens'],pos_tags,i))\n",
        "        Ytrain.append(w2t(sent,i))\n",
        "print(len(X_train),len(Ytrain))\n",
        "X_test,Ytest = [],[]\n",
        "for sent in dataset['test']:\n",
        "    pos_tags = [x[1] for x in pos_tag(sent['tokens'])]\n",
        "    for i in range(len(pos_tags)):\n",
        "        X_test.append(w2f(sent['tokens'],pos_tags,i))\n",
        "        Ytest.append(w2t(sent,i))"
      ]
    },
    {
      "cell_type": "code",
      "execution_count": null,
      "id": "65b69390-2a82-415b-b9ae-b7bdbc01f0b3",
      "metadata": {
        "colab": {
          "base_uri": "https://localhost:8080/"
        },
        "id": "65b69390-2a82-415b-b9ae-b7bdbc01f0b3",
        "outputId": "d9f8d099-341f-45c3-986c-c975bebc0004"
      },
      "outputs": [
        {
          "output_type": "stream",
          "name": "stdout",
          "text": [
            "(275606, 35467)\n",
            "(229171, 35467)\n",
            "229171\n",
            "(46435, 35467)\n",
            "46435\n"
          ]
        }
      ],
      "source": [
        "\n",
        "from sklearn.feature_extraction import DictVectorizer\n",
        "vec = DictVectorizer()\n",
        "res = vec.fit_transform(X_train+X_test)\n",
        "print(res.shape)\n",
        "Xtrain = res[:len(Ytrain)]\n",
        "Xtest = res[len(Ytrain):]\n",
        "print(Xtrain.shape)\n",
        "print(len(Ytrain))\n",
        "print(Xtest.shape)\n",
        "print(len(Ytest))"
      ]
    },
    {
      "cell_type": "code",
      "execution_count": null,
      "id": "8d6a29ee-57b2-44b5-a3f7-e87dee2d4f61",
      "metadata": {
        "colab": {
          "base_uri": "https://localhost:8080/"
        },
        "id": "8d6a29ee-57b2-44b5-a3f7-e87dee2d4f61",
        "outputId": "367e9854-16df-46b6-a59f-fa6111f404fd"
      },
      "outputs": [
        {
          "output_type": "stream",
          "name": "stdout",
          "text": [
            "  (0, 36)\t1.0\n",
            "  (0, 109)\t1.0\n",
            "  (0, 488)\t1.0\n",
            "  (0, 1303)\t1.0\n",
            "  (0, 4170)\t1.0\n",
            "  (0, 8929)\t1.0\n",
            "  (0, 17302)\t1.0\n",
            "  (0, 29239)\t1.0\n",
            "  (0, 35327)\t1.0\n",
            "  (0, 35328)\t0.0\n",
            "  (0, 35329)\t0.0\n",
            "  (0, 35330)\t0.0\n",
            "  (0, 35331)\t1.0\n",
            "  (0, 35332)\t2.0\n",
            "  (0, 35333)\t0.0\n",
            "  (0, 35334)\t0.0\n",
            "  (0, 35335)\t0.0\n",
            "  (0, 35373)\t1.0\n",
            "  (0, 35397)\t1.0\n"
          ]
        }
      ],
      "source": [
        "fvec1 = Xtrain[0]\n",
        "print(fvec1)"
      ]
    },
    {
      "cell_type": "code",
      "execution_count": null,
      "id": "209310b2-85f0-4f35-9f88-4f29886068e4",
      "metadata": {
        "id": "209310b2-85f0-4f35-9f88-4f29886068e4"
      },
      "outputs": [],
      "source": [
        "\n",
        "from sklearn import svm\n",
        "\n",
        "model = svm.SVC()\n",
        "model.fit(Xtrain,Ytrain)\n",
        "\n",
        "Ypred = model.predict(Xtest)"
      ]
    },
    {
      "cell_type": "code",
      "execution_count": null,
      "id": "6215eca3-f47e-4d5c-b154-d8ddcb798712",
      "metadata": {
        "colab": {
          "base_uri": "https://localhost:8080/"
        },
        "id": "6215eca3-f47e-4d5c-b154-d8ddcb798712",
        "outputId": "13ceea3a-6d33-4b9b-a4c0-9ccd7d21b2a4"
      },
      "outputs": [
        {
          "output_type": "stream",
          "name": "stdout",
          "text": [
            "0\n",
            "[[37758   565]\n",
            " [  257  7855]]\n",
            "Accuracy:  0.9822978356842899\n",
            "Precision:  0.9328978622327792\n",
            "Recall:  0.9683185404339251\n",
            "f1score:  0.9502782482458263\n"
          ]
        }
      ],
      "source": [
        "\n",
        "from sklearn import metrics\n",
        "\n",
        "print(model.fit_status_)\n",
        "\n",
        "accuracy = metrics.accuracy_score(Ytest,Ypred)\n",
        "precision = metrics.precision_score(Ytest,Ypred)\n",
        "recall = metrics.recall_score(Ytest,Ypred)\n",
        "f1score = (2*precision*recall/(precision+recall))\n",
        "confusion_matix = metrics.confusion_matrix(Ytest,Ypred)\n",
        "print(confusion_matix)\n",
        "print(\"Accuracy: \",accuracy)\n",
        "print(\"Precision: \",precision)\n",
        "print(\"Recall: \",recall)\n",
        "print(\"f1score: \",f1score)"
      ]
    },
    {
      "cell_type": "code",
      "execution_count": null,
      "id": "fa58f7f5-a5e2-4a8c-bc55-0bf1bd8c44c4",
      "metadata": {
        "id": "fa58f7f5-a5e2-4a8c-bc55-0bf1bd8c44c4"
      },
      "outputs": [],
      "source": [
        "\n",
        "def test_on_example(sentence):\n",
        "    global model,vec\n",
        "    test_example = []\n",
        "    sentence = sentence.split()\n",
        "    pos_tags = [x[1] for x in pos_tag(sentence)]\n",
        "    for i in range(len(sentence)):\n",
        "        test_example.append(vec.transform(w2f(sentence,pos_tags,i)))\n",
        "    print(' '.join(map(str,[model.predict(x)[0] for x in test_example])))"
      ]
    },
    {
      "cell_type": "code",
      "execution_count": null,
      "id": "e418349b-60b1-4101-9b63-bc2ec63acff3",
      "metadata": {
        "colab": {
          "base_uri": "https://localhost:8080/"
        },
        "id": "e418349b-60b1-4101-9b63-bc2ec63acff3",
        "outputId": "83a6745d-d720-4ab4-c48c-4ec4b16a2f2d"
      },
      "outputs": [
        {
          "output_type": "stream",
          "name": "stdout",
          "text": [
            "0 1 1 0 1 0 0 0 0 0 0 0 0 1 0 0\n"
          ]
        }
      ],
      "source": [
        "\n",
        "test_on_example(\"The State Bank of India is the largest bank in the country and Afghanistan is not.\")"
      ]
    },
    {
      "cell_type": "code",
      "execution_count": null,
      "id": "b796b154-a6ed-421b-863c-b8bc9b0eb974",
      "metadata": {
        "colab": {
          "base_uri": "https://localhost:8080/"
        },
        "id": "b796b154-a6ed-421b-863c-b8bc9b0eb974",
        "outputId": "80cedbc1-31ef-488c-b979-e4a6399e717d"
      },
      "outputs": [
        {
          "output_type": "stream",
          "name": "stdout",
          "text": [
            "0 0 0 0\n"
          ]
        }
      ],
      "source": [
        "test_on_example(\"Dancing in the rain\")"
      ]
    },
    {
      "cell_type": "code",
      "execution_count": null,
      "id": "33a6fc49-39e6-428d-9e45-ac0eb523ee0b",
      "metadata": {
        "colab": {
          "base_uri": "https://localhost:8080/"
        },
        "id": "33a6fc49-39e6-428d-9e45-ac0eb523ee0b",
        "outputId": "9ae8bdd6-855e-474f-96fe-53c5c1f4da88"
      },
      "outputs": [
        {
          "output_type": "stream",
          "name": "stdout",
          "text": [
            "0\n"
          ]
        }
      ],
      "source": [
        "test_on_example(\".\")"
      ]
    },
    {
      "cell_type": "code",
      "execution_count": null,
      "id": "bd5462a8-c021-4b7f-841a-2886a95d53bd",
      "metadata": {
        "id": "bd5462a8-c021-4b7f-841a-2886a95d53bd"
      },
      "outputs": [],
      "source": []
    },
    {
      "cell_type": "code",
      "source": [
        "import streamlit as st\n",
        "import joblib\n",
        "import nltk\n",
        "from nltk.tag import pos_tag\n",
        "\n",
        "nltk.download('averaged_perceptron_tagger')\n",
        "\n",
        "# Define the feature extraction functions\n",
        "def w2f(sentence, pos_tags, i):\n",
        "    postag = pos_tags[i]\n",
        "    word = sentence[i]\n",
        "    lword = word.lower()\n",
        "    features = {\n",
        "        'postag': str(postag),\n",
        "        'istitle': word.istitle(),\n",
        "        'isupper': word.isupper(),\n",
        "        'length': len(word),\n",
        "        'isdigit': word.isdigit(),\n",
        "        '1suffix': lword[-1:],\n",
        "        '2suffix': lword[-2:],\n",
        "        '3suffix': lword[-3:],\n",
        "        '4suffix': lword[-4:],\n",
        "        '1prefix': lword[:1],\n",
        "        '2prefix': lword[:2],\n",
        "        '3prefix': lword[:3],\n",
        "        '4prefix': lword[:4]\n",
        "    }\n",
        "\n",
        "    if i > 0:\n",
        "        prevword = sentence[i - 1]\n",
        "        prevpostag = pos_tags[i - 1]\n",
        "        features.update({\n",
        "            'prevpostag': str(prevpostag),\n",
        "            'previsupper': prevword.isupper(),\n",
        "            'previstitle': prevword.istitle(),\n",
        "            'prevdigit': prevword.isdigit(),\n",
        "            'begin': False\n",
        "        })\n",
        "    else:\n",
        "        features.update({'begin': True})\n",
        "\n",
        "    if i < len(sentence) - 1:\n",
        "        nextword = sentence[i + 1]\n",
        "        nextpostag = pos_tags[i + 1]\n",
        "        features.update({\n",
        "            'nextpostag': str(nextpostag),\n",
        "            'nextisupper': nextword.isupper(),\n",
        "            'nextistitle': nextword.istitle(),\n",
        "            'nextdigit': nextword.isdigit(),\n",
        "            'end': False\n",
        "        })\n",
        "    else:\n",
        "        features.update({'end': True})\n",
        "    return features\n",
        "\n",
        "# Load your trained model and vectorizer\n",
        "model = joblib.load('svm_ner_model.pkl')  # Replace with your model file\n",
        "vec = joblib.load('vectorizer.pkl')       # Replace with your vectorizer file\n",
        "\n",
        "# Streamlit app\n",
        "st.title(\"Named Entity Identification using SVM Classifier\")\n",
        "st.write(\"This app identifies named entities in a sentence and labels them as 1 (Name) or 0 (No Name).\")\n",
        "\n",
        "# User input\n",
        "sentence = st.text_input(\"Enter a sentence:\")\n",
        "if sentence:\n",
        "    sentence_tokens = sentence.split()\n",
        "    pos_tags = [x[1] for x in pos_tag(sentence_tokens)]\n",
        "    test_example = [w2f(sentence_tokens, pos_tags, i) for i in range(len(sentence_tokens))]\n",
        "    test_vectorized = vec.transform(test_example)\n",
        "\n",
        "    # Predict\n",
        "    predictions = model.predict(test_vectorized)\n",
        "    result = ' '.join([f\"{word}_{pred}\" for word, pred in zip(sentence_tokens, predictions)])\n",
        "\n",
        "    st.write(\"**Output**:\")\n",
        "    st.text(result)\n"
      ],
      "metadata": {
        "colab": {
          "base_uri": "https://localhost:8080/"
        },
        "id": "tOP1zdZvdGX-",
        "outputId": "272821c5-9407-469b-9e68-7c450c1b20eb"
      },
      "id": "tOP1zdZvdGX-",
      "execution_count": null,
      "outputs": [
        {
          "output_type": "error",
          "ename": "ModuleNotFoundError",
          "evalue": "No module named 'streamlit'",
          "traceback": [
            "\u001b[0;31m---------------------------------------------------------------------------\u001b[0m",
            "\u001b[0;31mModuleNotFoundError\u001b[0m                       Traceback (most recent call last)",
            "\u001b[0;32m<ipython-input-29-1a648709ecb3>\u001b[0m in \u001b[0;36m<cell line: 1>\u001b[0;34m()\u001b[0m\n\u001b[0;32m----> 1\u001b[0;31m \u001b[0;32mimport\u001b[0m \u001b[0mstreamlit\u001b[0m \u001b[0;32mas\u001b[0m \u001b[0mst\u001b[0m\u001b[0;34m\u001b[0m\u001b[0;34m\u001b[0m\u001b[0m\n\u001b[0m\u001b[1;32m      2\u001b[0m \u001b[0;32mimport\u001b[0m \u001b[0mjoblib\u001b[0m\u001b[0;34m\u001b[0m\u001b[0;34m\u001b[0m\u001b[0m\n\u001b[1;32m      3\u001b[0m \u001b[0;32mimport\u001b[0m \u001b[0mnltk\u001b[0m\u001b[0;34m\u001b[0m\u001b[0;34m\u001b[0m\u001b[0m\n\u001b[1;32m      4\u001b[0m \u001b[0;32mfrom\u001b[0m \u001b[0mnltk\u001b[0m\u001b[0;34m.\u001b[0m\u001b[0mtag\u001b[0m \u001b[0;32mimport\u001b[0m \u001b[0mpos_tag\u001b[0m\u001b[0;34m\u001b[0m\u001b[0;34m\u001b[0m\u001b[0m\n\u001b[1;32m      5\u001b[0m \u001b[0;34m\u001b[0m\u001b[0m\n",
            "\u001b[0;31mModuleNotFoundError\u001b[0m: No module named 'streamlit'",
            "",
            "\u001b[0;31m---------------------------------------------------------------------------\u001b[0;32m\nNOTE: If your import is failing due to a missing package, you can\nmanually install dependencies using either !pip or !apt.\n\nTo view examples of installing some common dependencies, click the\n\"Open Examples\" button below.\n\u001b[0;31m---------------------------------------------------------------------------\u001b[0m\n"
          ],
          "errorDetails": {
            "actions": [
              {
                "action": "open_url",
                "actionText": "Open Examples",
                "url": "/notebooks/snippets/importing_libraries.ipynb"
              }
            ]
          }
        }
      ]
    },
    {
      "cell_type": "code",
      "source": [],
      "metadata": {
        "id": "t02f3RG7dG7N"
      },
      "id": "t02f3RG7dG7N",
      "execution_count": null,
      "outputs": []
    }
  ],
  "metadata": {
    "kernelspec": {
      "display_name": "Python 3 (ipykernel)",
      "language": "python",
      "name": "python3"
    },
    "language_info": {
      "codemirror_mode": {
        "name": "ipython",
        "version": 3
      },
      "file_extension": ".py",
      "mimetype": "text/x-python",
      "name": "python",
      "nbconvert_exporter": "python",
      "pygments_lexer": "ipython3",
      "version": "3.11.7"
    },
    "colab": {
      "provenance": []
    },
    "widgets": {
      "application/vnd.jupyter.widget-state+json": {
        "149f9eda9c9b42f988f12cb68d226ac3": {
          "model_module": "@jupyter-widgets/controls",
          "model_name": "HBoxModel",
          "model_module_version": "1.5.0",
          "state": {
            "_dom_classes": [],
            "_model_module": "@jupyter-widgets/controls",
            "_model_module_version": "1.5.0",
            "_model_name": "HBoxModel",
            "_view_count": null,
            "_view_module": "@jupyter-widgets/controls",
            "_view_module_version": "1.5.0",
            "_view_name": "HBoxView",
            "box_style": "",
            "children": [
              "IPY_MODEL_b59e291fdee8483c928b113d1529ac75",
              "IPY_MODEL_b9dc8bf4292c4a22bf551b8f63e69cb6",
              "IPY_MODEL_0f83bbd3d28a4848be06658cb84dabc5"
            ],
            "layout": "IPY_MODEL_e11d456fce2642bea928301f6254d1db"
          }
        },
        "b59e291fdee8483c928b113d1529ac75": {
          "model_module": "@jupyter-widgets/controls",
          "model_name": "HTMLModel",
          "model_module_version": "1.5.0",
          "state": {
            "_dom_classes": [],
            "_model_module": "@jupyter-widgets/controls",
            "_model_module_version": "1.5.0",
            "_model_name": "HTMLModel",
            "_view_count": null,
            "_view_module": "@jupyter-widgets/controls",
            "_view_module_version": "1.5.0",
            "_view_name": "HTMLView",
            "description": "",
            "description_tooltip": null,
            "layout": "IPY_MODEL_eead5a1c2417400d8ea58556096bfdba",
            "placeholder": "​",
            "style": "IPY_MODEL_837b991fb2ac4306b62629f32edc90b2",
            "value": "README.md: 100%"
          }
        },
        "b9dc8bf4292c4a22bf551b8f63e69cb6": {
          "model_module": "@jupyter-widgets/controls",
          "model_name": "FloatProgressModel",
          "model_module_version": "1.5.0",
          "state": {
            "_dom_classes": [],
            "_model_module": "@jupyter-widgets/controls",
            "_model_module_version": "1.5.0",
            "_model_name": "FloatProgressModel",
            "_view_count": null,
            "_view_module": "@jupyter-widgets/controls",
            "_view_module_version": "1.5.0",
            "_view_name": "ProgressView",
            "bar_style": "success",
            "description": "",
            "description_tooltip": null,
            "layout": "IPY_MODEL_2eca5d05c65a4d53970fef800b79aad8",
            "max": 12330,
            "min": 0,
            "orientation": "horizontal",
            "style": "IPY_MODEL_c08529eb378a4964a724a3b891b9b534",
            "value": 12330
          }
        },
        "0f83bbd3d28a4848be06658cb84dabc5": {
          "model_module": "@jupyter-widgets/controls",
          "model_name": "HTMLModel",
          "model_module_version": "1.5.0",
          "state": {
            "_dom_classes": [],
            "_model_module": "@jupyter-widgets/controls",
            "_model_module_version": "1.5.0",
            "_model_name": "HTMLModel",
            "_view_count": null,
            "_view_module": "@jupyter-widgets/controls",
            "_view_module_version": "1.5.0",
            "_view_name": "HTMLView",
            "description": "",
            "description_tooltip": null,
            "layout": "IPY_MODEL_f1f007b25be14c32b82f39f07383dfc8",
            "placeholder": "​",
            "style": "IPY_MODEL_bc34360bcc044fd59ff3bd858037ee19",
            "value": " 12.3k/12.3k [00:00&lt;00:00, 646kB/s]"
          }
        },
        "e11d456fce2642bea928301f6254d1db": {
          "model_module": "@jupyter-widgets/base",
          "model_name": "LayoutModel",
          "model_module_version": "1.2.0",
          "state": {
            "_model_module": "@jupyter-widgets/base",
            "_model_module_version": "1.2.0",
            "_model_name": "LayoutModel",
            "_view_count": null,
            "_view_module": "@jupyter-widgets/base",
            "_view_module_version": "1.2.0",
            "_view_name": "LayoutView",
            "align_content": null,
            "align_items": null,
            "align_self": null,
            "border": null,
            "bottom": null,
            "display": null,
            "flex": null,
            "flex_flow": null,
            "grid_area": null,
            "grid_auto_columns": null,
            "grid_auto_flow": null,
            "grid_auto_rows": null,
            "grid_column": null,
            "grid_gap": null,
            "grid_row": null,
            "grid_template_areas": null,
            "grid_template_columns": null,
            "grid_template_rows": null,
            "height": null,
            "justify_content": null,
            "justify_items": null,
            "left": null,
            "margin": null,
            "max_height": null,
            "max_width": null,
            "min_height": null,
            "min_width": null,
            "object_fit": null,
            "object_position": null,
            "order": null,
            "overflow": null,
            "overflow_x": null,
            "overflow_y": null,
            "padding": null,
            "right": null,
            "top": null,
            "visibility": null,
            "width": null
          }
        },
        "eead5a1c2417400d8ea58556096bfdba": {
          "model_module": "@jupyter-widgets/base",
          "model_name": "LayoutModel",
          "model_module_version": "1.2.0",
          "state": {
            "_model_module": "@jupyter-widgets/base",
            "_model_module_version": "1.2.0",
            "_model_name": "LayoutModel",
            "_view_count": null,
            "_view_module": "@jupyter-widgets/base",
            "_view_module_version": "1.2.0",
            "_view_name": "LayoutView",
            "align_content": null,
            "align_items": null,
            "align_self": null,
            "border": null,
            "bottom": null,
            "display": null,
            "flex": null,
            "flex_flow": null,
            "grid_area": null,
            "grid_auto_columns": null,
            "grid_auto_flow": null,
            "grid_auto_rows": null,
            "grid_column": null,
            "grid_gap": null,
            "grid_row": null,
            "grid_template_areas": null,
            "grid_template_columns": null,
            "grid_template_rows": null,
            "height": null,
            "justify_content": null,
            "justify_items": null,
            "left": null,
            "margin": null,
            "max_height": null,
            "max_width": null,
            "min_height": null,
            "min_width": null,
            "object_fit": null,
            "object_position": null,
            "order": null,
            "overflow": null,
            "overflow_x": null,
            "overflow_y": null,
            "padding": null,
            "right": null,
            "top": null,
            "visibility": null,
            "width": null
          }
        },
        "837b991fb2ac4306b62629f32edc90b2": {
          "model_module": "@jupyter-widgets/controls",
          "model_name": "DescriptionStyleModel",
          "model_module_version": "1.5.0",
          "state": {
            "_model_module": "@jupyter-widgets/controls",
            "_model_module_version": "1.5.0",
            "_model_name": "DescriptionStyleModel",
            "_view_count": null,
            "_view_module": "@jupyter-widgets/base",
            "_view_module_version": "1.2.0",
            "_view_name": "StyleView",
            "description_width": ""
          }
        },
        "2eca5d05c65a4d53970fef800b79aad8": {
          "model_module": "@jupyter-widgets/base",
          "model_name": "LayoutModel",
          "model_module_version": "1.2.0",
          "state": {
            "_model_module": "@jupyter-widgets/base",
            "_model_module_version": "1.2.0",
            "_model_name": "LayoutModel",
            "_view_count": null,
            "_view_module": "@jupyter-widgets/base",
            "_view_module_version": "1.2.0",
            "_view_name": "LayoutView",
            "align_content": null,
            "align_items": null,
            "align_self": null,
            "border": null,
            "bottom": null,
            "display": null,
            "flex": null,
            "flex_flow": null,
            "grid_area": null,
            "grid_auto_columns": null,
            "grid_auto_flow": null,
            "grid_auto_rows": null,
            "grid_column": null,
            "grid_gap": null,
            "grid_row": null,
            "grid_template_areas": null,
            "grid_template_columns": null,
            "grid_template_rows": null,
            "height": null,
            "justify_content": null,
            "justify_items": null,
            "left": null,
            "margin": null,
            "max_height": null,
            "max_width": null,
            "min_height": null,
            "min_width": null,
            "object_fit": null,
            "object_position": null,
            "order": null,
            "overflow": null,
            "overflow_x": null,
            "overflow_y": null,
            "padding": null,
            "right": null,
            "top": null,
            "visibility": null,
            "width": null
          }
        },
        "c08529eb378a4964a724a3b891b9b534": {
          "model_module": "@jupyter-widgets/controls",
          "model_name": "ProgressStyleModel",
          "model_module_version": "1.5.0",
          "state": {
            "_model_module": "@jupyter-widgets/controls",
            "_model_module_version": "1.5.0",
            "_model_name": "ProgressStyleModel",
            "_view_count": null,
            "_view_module": "@jupyter-widgets/base",
            "_view_module_version": "1.2.0",
            "_view_name": "StyleView",
            "bar_color": null,
            "description_width": ""
          }
        },
        "f1f007b25be14c32b82f39f07383dfc8": {
          "model_module": "@jupyter-widgets/base",
          "model_name": "LayoutModel",
          "model_module_version": "1.2.0",
          "state": {
            "_model_module": "@jupyter-widgets/base",
            "_model_module_version": "1.2.0",
            "_model_name": "LayoutModel",
            "_view_count": null,
            "_view_module": "@jupyter-widgets/base",
            "_view_module_version": "1.2.0",
            "_view_name": "LayoutView",
            "align_content": null,
            "align_items": null,
            "align_self": null,
            "border": null,
            "bottom": null,
            "display": null,
            "flex": null,
            "flex_flow": null,
            "grid_area": null,
            "grid_auto_columns": null,
            "grid_auto_flow": null,
            "grid_auto_rows": null,
            "grid_column": null,
            "grid_gap": null,
            "grid_row": null,
            "grid_template_areas": null,
            "grid_template_columns": null,
            "grid_template_rows": null,
            "height": null,
            "justify_content": null,
            "justify_items": null,
            "left": null,
            "margin": null,
            "max_height": null,
            "max_width": null,
            "min_height": null,
            "min_width": null,
            "object_fit": null,
            "object_position": null,
            "order": null,
            "overflow": null,
            "overflow_x": null,
            "overflow_y": null,
            "padding": null,
            "right": null,
            "top": null,
            "visibility": null,
            "width": null
          }
        },
        "bc34360bcc044fd59ff3bd858037ee19": {
          "model_module": "@jupyter-widgets/controls",
          "model_name": "DescriptionStyleModel",
          "model_module_version": "1.5.0",
          "state": {
            "_model_module": "@jupyter-widgets/controls",
            "_model_module_version": "1.5.0",
            "_model_name": "DescriptionStyleModel",
            "_view_count": null,
            "_view_module": "@jupyter-widgets/base",
            "_view_module_version": "1.2.0",
            "_view_name": "StyleView",
            "description_width": ""
          }
        },
        "011bec59665040338962837b522b55f6": {
          "model_module": "@jupyter-widgets/controls",
          "model_name": "HBoxModel",
          "model_module_version": "1.5.0",
          "state": {
            "_dom_classes": [],
            "_model_module": "@jupyter-widgets/controls",
            "_model_module_version": "1.5.0",
            "_model_name": "HBoxModel",
            "_view_count": null,
            "_view_module": "@jupyter-widgets/controls",
            "_view_module_version": "1.5.0",
            "_view_name": "HBoxView",
            "box_style": "",
            "children": [
              "IPY_MODEL_5d99cf1e3960497b8f48f6badac758ea",
              "IPY_MODEL_ed76a999f7a14da88fc385b09450a089",
              "IPY_MODEL_0f5f5cc788b84e8e85e9d93c6b143d9b"
            ],
            "layout": "IPY_MODEL_79adfc6ae17d4f8e8d1e2cbdbfbdb9df"
          }
        },
        "5d99cf1e3960497b8f48f6badac758ea": {
          "model_module": "@jupyter-widgets/controls",
          "model_name": "HTMLModel",
          "model_module_version": "1.5.0",
          "state": {
            "_dom_classes": [],
            "_model_module": "@jupyter-widgets/controls",
            "_model_module_version": "1.5.0",
            "_model_name": "HTMLModel",
            "_view_count": null,
            "_view_module": "@jupyter-widgets/controls",
            "_view_module_version": "1.5.0",
            "_view_name": "HTMLView",
            "description": "",
            "description_tooltip": null,
            "layout": "IPY_MODEL_1fc48b420f6044a58266edb59c363404",
            "placeholder": "​",
            "style": "IPY_MODEL_b26a890f13f64df1941da9ec7f41003a",
            "value": "conll2003.py: 100%"
          }
        },
        "ed76a999f7a14da88fc385b09450a089": {
          "model_module": "@jupyter-widgets/controls",
          "model_name": "FloatProgressModel",
          "model_module_version": "1.5.0",
          "state": {
            "_dom_classes": [],
            "_model_module": "@jupyter-widgets/controls",
            "_model_module_version": "1.5.0",
            "_model_name": "FloatProgressModel",
            "_view_count": null,
            "_view_module": "@jupyter-widgets/controls",
            "_view_module_version": "1.5.0",
            "_view_name": "ProgressView",
            "bar_style": "success",
            "description": "",
            "description_tooltip": null,
            "layout": "IPY_MODEL_7d6f98a73f4c42a0812a31596a5eb019",
            "max": 9570,
            "min": 0,
            "orientation": "horizontal",
            "style": "IPY_MODEL_9296acab5e314228b46106f93c1f7fa2",
            "value": 9570
          }
        },
        "0f5f5cc788b84e8e85e9d93c6b143d9b": {
          "model_module": "@jupyter-widgets/controls",
          "model_name": "HTMLModel",
          "model_module_version": "1.5.0",
          "state": {
            "_dom_classes": [],
            "_model_module": "@jupyter-widgets/controls",
            "_model_module_version": "1.5.0",
            "_model_name": "HTMLModel",
            "_view_count": null,
            "_view_module": "@jupyter-widgets/controls",
            "_view_module_version": "1.5.0",
            "_view_name": "HTMLView",
            "description": "",
            "description_tooltip": null,
            "layout": "IPY_MODEL_59f4b2c167204cc1998ddc850fecb87f",
            "placeholder": "​",
            "style": "IPY_MODEL_03d57b336729476e8c538097dd9a8e11",
            "value": " 9.57k/9.57k [00:00&lt;00:00, 579kB/s]"
          }
        },
        "79adfc6ae17d4f8e8d1e2cbdbfbdb9df": {
          "model_module": "@jupyter-widgets/base",
          "model_name": "LayoutModel",
          "model_module_version": "1.2.0",
          "state": {
            "_model_module": "@jupyter-widgets/base",
            "_model_module_version": "1.2.0",
            "_model_name": "LayoutModel",
            "_view_count": null,
            "_view_module": "@jupyter-widgets/base",
            "_view_module_version": "1.2.0",
            "_view_name": "LayoutView",
            "align_content": null,
            "align_items": null,
            "align_self": null,
            "border": null,
            "bottom": null,
            "display": null,
            "flex": null,
            "flex_flow": null,
            "grid_area": null,
            "grid_auto_columns": null,
            "grid_auto_flow": null,
            "grid_auto_rows": null,
            "grid_column": null,
            "grid_gap": null,
            "grid_row": null,
            "grid_template_areas": null,
            "grid_template_columns": null,
            "grid_template_rows": null,
            "height": null,
            "justify_content": null,
            "justify_items": null,
            "left": null,
            "margin": null,
            "max_height": null,
            "max_width": null,
            "min_height": null,
            "min_width": null,
            "object_fit": null,
            "object_position": null,
            "order": null,
            "overflow": null,
            "overflow_x": null,
            "overflow_y": null,
            "padding": null,
            "right": null,
            "top": null,
            "visibility": null,
            "width": null
          }
        },
        "1fc48b420f6044a58266edb59c363404": {
          "model_module": "@jupyter-widgets/base",
          "model_name": "LayoutModel",
          "model_module_version": "1.2.0",
          "state": {
            "_model_module": "@jupyter-widgets/base",
            "_model_module_version": "1.2.0",
            "_model_name": "LayoutModel",
            "_view_count": null,
            "_view_module": "@jupyter-widgets/base",
            "_view_module_version": "1.2.0",
            "_view_name": "LayoutView",
            "align_content": null,
            "align_items": null,
            "align_self": null,
            "border": null,
            "bottom": null,
            "display": null,
            "flex": null,
            "flex_flow": null,
            "grid_area": null,
            "grid_auto_columns": null,
            "grid_auto_flow": null,
            "grid_auto_rows": null,
            "grid_column": null,
            "grid_gap": null,
            "grid_row": null,
            "grid_template_areas": null,
            "grid_template_columns": null,
            "grid_template_rows": null,
            "height": null,
            "justify_content": null,
            "justify_items": null,
            "left": null,
            "margin": null,
            "max_height": null,
            "max_width": null,
            "min_height": null,
            "min_width": null,
            "object_fit": null,
            "object_position": null,
            "order": null,
            "overflow": null,
            "overflow_x": null,
            "overflow_y": null,
            "padding": null,
            "right": null,
            "top": null,
            "visibility": null,
            "width": null
          }
        },
        "b26a890f13f64df1941da9ec7f41003a": {
          "model_module": "@jupyter-widgets/controls",
          "model_name": "DescriptionStyleModel",
          "model_module_version": "1.5.0",
          "state": {
            "_model_module": "@jupyter-widgets/controls",
            "_model_module_version": "1.5.0",
            "_model_name": "DescriptionStyleModel",
            "_view_count": null,
            "_view_module": "@jupyter-widgets/base",
            "_view_module_version": "1.2.0",
            "_view_name": "StyleView",
            "description_width": ""
          }
        },
        "7d6f98a73f4c42a0812a31596a5eb019": {
          "model_module": "@jupyter-widgets/base",
          "model_name": "LayoutModel",
          "model_module_version": "1.2.0",
          "state": {
            "_model_module": "@jupyter-widgets/base",
            "_model_module_version": "1.2.0",
            "_model_name": "LayoutModel",
            "_view_count": null,
            "_view_module": "@jupyter-widgets/base",
            "_view_module_version": "1.2.0",
            "_view_name": "LayoutView",
            "align_content": null,
            "align_items": null,
            "align_self": null,
            "border": null,
            "bottom": null,
            "display": null,
            "flex": null,
            "flex_flow": null,
            "grid_area": null,
            "grid_auto_columns": null,
            "grid_auto_flow": null,
            "grid_auto_rows": null,
            "grid_column": null,
            "grid_gap": null,
            "grid_row": null,
            "grid_template_areas": null,
            "grid_template_columns": null,
            "grid_template_rows": null,
            "height": null,
            "justify_content": null,
            "justify_items": null,
            "left": null,
            "margin": null,
            "max_height": null,
            "max_width": null,
            "min_height": null,
            "min_width": null,
            "object_fit": null,
            "object_position": null,
            "order": null,
            "overflow": null,
            "overflow_x": null,
            "overflow_y": null,
            "padding": null,
            "right": null,
            "top": null,
            "visibility": null,
            "width": null
          }
        },
        "9296acab5e314228b46106f93c1f7fa2": {
          "model_module": "@jupyter-widgets/controls",
          "model_name": "ProgressStyleModel",
          "model_module_version": "1.5.0",
          "state": {
            "_model_module": "@jupyter-widgets/controls",
            "_model_module_version": "1.5.0",
            "_model_name": "ProgressStyleModel",
            "_view_count": null,
            "_view_module": "@jupyter-widgets/base",
            "_view_module_version": "1.2.0",
            "_view_name": "StyleView",
            "bar_color": null,
            "description_width": ""
          }
        },
        "59f4b2c167204cc1998ddc850fecb87f": {
          "model_module": "@jupyter-widgets/base",
          "model_name": "LayoutModel",
          "model_module_version": "1.2.0",
          "state": {
            "_model_module": "@jupyter-widgets/base",
            "_model_module_version": "1.2.0",
            "_model_name": "LayoutModel",
            "_view_count": null,
            "_view_module": "@jupyter-widgets/base",
            "_view_module_version": "1.2.0",
            "_view_name": "LayoutView",
            "align_content": null,
            "align_items": null,
            "align_self": null,
            "border": null,
            "bottom": null,
            "display": null,
            "flex": null,
            "flex_flow": null,
            "grid_area": null,
            "grid_auto_columns": null,
            "grid_auto_flow": null,
            "grid_auto_rows": null,
            "grid_column": null,
            "grid_gap": null,
            "grid_row": null,
            "grid_template_areas": null,
            "grid_template_columns": null,
            "grid_template_rows": null,
            "height": null,
            "justify_content": null,
            "justify_items": null,
            "left": null,
            "margin": null,
            "max_height": null,
            "max_width": null,
            "min_height": null,
            "min_width": null,
            "object_fit": null,
            "object_position": null,
            "order": null,
            "overflow": null,
            "overflow_x": null,
            "overflow_y": null,
            "padding": null,
            "right": null,
            "top": null,
            "visibility": null,
            "width": null
          }
        },
        "03d57b336729476e8c538097dd9a8e11": {
          "model_module": "@jupyter-widgets/controls",
          "model_name": "DescriptionStyleModel",
          "model_module_version": "1.5.0",
          "state": {
            "_model_module": "@jupyter-widgets/controls",
            "_model_module_version": "1.5.0",
            "_model_name": "DescriptionStyleModel",
            "_view_count": null,
            "_view_module": "@jupyter-widgets/base",
            "_view_module_version": "1.2.0",
            "_view_name": "StyleView",
            "description_width": ""
          }
        },
        "bf3e4d47dc0e4aa6a54d21af5573433a": {
          "model_module": "@jupyter-widgets/controls",
          "model_name": "HBoxModel",
          "model_module_version": "1.5.0",
          "state": {
            "_dom_classes": [],
            "_model_module": "@jupyter-widgets/controls",
            "_model_module_version": "1.5.0",
            "_model_name": "HBoxModel",
            "_view_count": null,
            "_view_module": "@jupyter-widgets/controls",
            "_view_module_version": "1.5.0",
            "_view_name": "HBoxView",
            "box_style": "",
            "children": [
              "IPY_MODEL_10dace58d2fc477494955f9a7a92ecb7",
              "IPY_MODEL_4facb3b72dea4f36937e58c9b370c47e",
              "IPY_MODEL_ee0f467cff654f1a9dfa03b9b5d9a803"
            ],
            "layout": "IPY_MODEL_c888d33f216e4ebea64eac9fc2c42839"
          }
        },
        "10dace58d2fc477494955f9a7a92ecb7": {
          "model_module": "@jupyter-widgets/controls",
          "model_name": "HTMLModel",
          "model_module_version": "1.5.0",
          "state": {
            "_dom_classes": [],
            "_model_module": "@jupyter-widgets/controls",
            "_model_module_version": "1.5.0",
            "_model_name": "HTMLModel",
            "_view_count": null,
            "_view_module": "@jupyter-widgets/controls",
            "_view_module_version": "1.5.0",
            "_view_name": "HTMLView",
            "description": "",
            "description_tooltip": null,
            "layout": "IPY_MODEL_52f1afbca69147b9b4e8364458cda115",
            "placeholder": "​",
            "style": "IPY_MODEL_7713e8e04ac84eee997765c1f0264ac9",
            "value": "Downloading data: 100%"
          }
        },
        "4facb3b72dea4f36937e58c9b370c47e": {
          "model_module": "@jupyter-widgets/controls",
          "model_name": "FloatProgressModel",
          "model_module_version": "1.5.0",
          "state": {
            "_dom_classes": [],
            "_model_module": "@jupyter-widgets/controls",
            "_model_module_version": "1.5.0",
            "_model_name": "FloatProgressModel",
            "_view_count": null,
            "_view_module": "@jupyter-widgets/controls",
            "_view_module_version": "1.5.0",
            "_view_name": "ProgressView",
            "bar_style": "success",
            "description": "",
            "description_tooltip": null,
            "layout": "IPY_MODEL_4ef5700522f64323a9e12e37e5bf2b42",
            "max": 982975,
            "min": 0,
            "orientation": "horizontal",
            "style": "IPY_MODEL_acc4e24ed93e4b8a98796f5589c029d6",
            "value": 982975
          }
        },
        "ee0f467cff654f1a9dfa03b9b5d9a803": {
          "model_module": "@jupyter-widgets/controls",
          "model_name": "HTMLModel",
          "model_module_version": "1.5.0",
          "state": {
            "_dom_classes": [],
            "_model_module": "@jupyter-widgets/controls",
            "_model_module_version": "1.5.0",
            "_model_name": "HTMLModel",
            "_view_count": null,
            "_view_module": "@jupyter-widgets/controls",
            "_view_module_version": "1.5.0",
            "_view_name": "HTMLView",
            "description": "",
            "description_tooltip": null,
            "layout": "IPY_MODEL_a50f04db3da54cc194c1d200b2075e7c",
            "placeholder": "​",
            "style": "IPY_MODEL_21085bb1d03946838f57deb6d29f7d3c",
            "value": " 983k/983k [00:00&lt;00:00, 1.67MB/s]"
          }
        },
        "c888d33f216e4ebea64eac9fc2c42839": {
          "model_module": "@jupyter-widgets/base",
          "model_name": "LayoutModel",
          "model_module_version": "1.2.0",
          "state": {
            "_model_module": "@jupyter-widgets/base",
            "_model_module_version": "1.2.0",
            "_model_name": "LayoutModel",
            "_view_count": null,
            "_view_module": "@jupyter-widgets/base",
            "_view_module_version": "1.2.0",
            "_view_name": "LayoutView",
            "align_content": null,
            "align_items": null,
            "align_self": null,
            "border": null,
            "bottom": null,
            "display": null,
            "flex": null,
            "flex_flow": null,
            "grid_area": null,
            "grid_auto_columns": null,
            "grid_auto_flow": null,
            "grid_auto_rows": null,
            "grid_column": null,
            "grid_gap": null,
            "grid_row": null,
            "grid_template_areas": null,
            "grid_template_columns": null,
            "grid_template_rows": null,
            "height": null,
            "justify_content": null,
            "justify_items": null,
            "left": null,
            "margin": null,
            "max_height": null,
            "max_width": null,
            "min_height": null,
            "min_width": null,
            "object_fit": null,
            "object_position": null,
            "order": null,
            "overflow": null,
            "overflow_x": null,
            "overflow_y": null,
            "padding": null,
            "right": null,
            "top": null,
            "visibility": null,
            "width": null
          }
        },
        "52f1afbca69147b9b4e8364458cda115": {
          "model_module": "@jupyter-widgets/base",
          "model_name": "LayoutModel",
          "model_module_version": "1.2.0",
          "state": {
            "_model_module": "@jupyter-widgets/base",
            "_model_module_version": "1.2.0",
            "_model_name": "LayoutModel",
            "_view_count": null,
            "_view_module": "@jupyter-widgets/base",
            "_view_module_version": "1.2.0",
            "_view_name": "LayoutView",
            "align_content": null,
            "align_items": null,
            "align_self": null,
            "border": null,
            "bottom": null,
            "display": null,
            "flex": null,
            "flex_flow": null,
            "grid_area": null,
            "grid_auto_columns": null,
            "grid_auto_flow": null,
            "grid_auto_rows": null,
            "grid_column": null,
            "grid_gap": null,
            "grid_row": null,
            "grid_template_areas": null,
            "grid_template_columns": null,
            "grid_template_rows": null,
            "height": null,
            "justify_content": null,
            "justify_items": null,
            "left": null,
            "margin": null,
            "max_height": null,
            "max_width": null,
            "min_height": null,
            "min_width": null,
            "object_fit": null,
            "object_position": null,
            "order": null,
            "overflow": null,
            "overflow_x": null,
            "overflow_y": null,
            "padding": null,
            "right": null,
            "top": null,
            "visibility": null,
            "width": null
          }
        },
        "7713e8e04ac84eee997765c1f0264ac9": {
          "model_module": "@jupyter-widgets/controls",
          "model_name": "DescriptionStyleModel",
          "model_module_version": "1.5.0",
          "state": {
            "_model_module": "@jupyter-widgets/controls",
            "_model_module_version": "1.5.0",
            "_model_name": "DescriptionStyleModel",
            "_view_count": null,
            "_view_module": "@jupyter-widgets/base",
            "_view_module_version": "1.2.0",
            "_view_name": "StyleView",
            "description_width": ""
          }
        },
        "4ef5700522f64323a9e12e37e5bf2b42": {
          "model_module": "@jupyter-widgets/base",
          "model_name": "LayoutModel",
          "model_module_version": "1.2.0",
          "state": {
            "_model_module": "@jupyter-widgets/base",
            "_model_module_version": "1.2.0",
            "_model_name": "LayoutModel",
            "_view_count": null,
            "_view_module": "@jupyter-widgets/base",
            "_view_module_version": "1.2.0",
            "_view_name": "LayoutView",
            "align_content": null,
            "align_items": null,
            "align_self": null,
            "border": null,
            "bottom": null,
            "display": null,
            "flex": null,
            "flex_flow": null,
            "grid_area": null,
            "grid_auto_columns": null,
            "grid_auto_flow": null,
            "grid_auto_rows": null,
            "grid_column": null,
            "grid_gap": null,
            "grid_row": null,
            "grid_template_areas": null,
            "grid_template_columns": null,
            "grid_template_rows": null,
            "height": null,
            "justify_content": null,
            "justify_items": null,
            "left": null,
            "margin": null,
            "max_height": null,
            "max_width": null,
            "min_height": null,
            "min_width": null,
            "object_fit": null,
            "object_position": null,
            "order": null,
            "overflow": null,
            "overflow_x": null,
            "overflow_y": null,
            "padding": null,
            "right": null,
            "top": null,
            "visibility": null,
            "width": null
          }
        },
        "acc4e24ed93e4b8a98796f5589c029d6": {
          "model_module": "@jupyter-widgets/controls",
          "model_name": "ProgressStyleModel",
          "model_module_version": "1.5.0",
          "state": {
            "_model_module": "@jupyter-widgets/controls",
            "_model_module_version": "1.5.0",
            "_model_name": "ProgressStyleModel",
            "_view_count": null,
            "_view_module": "@jupyter-widgets/base",
            "_view_module_version": "1.2.0",
            "_view_name": "StyleView",
            "bar_color": null,
            "description_width": ""
          }
        },
        "a50f04db3da54cc194c1d200b2075e7c": {
          "model_module": "@jupyter-widgets/base",
          "model_name": "LayoutModel",
          "model_module_version": "1.2.0",
          "state": {
            "_model_module": "@jupyter-widgets/base",
            "_model_module_version": "1.2.0",
            "_model_name": "LayoutModel",
            "_view_count": null,
            "_view_module": "@jupyter-widgets/base",
            "_view_module_version": "1.2.0",
            "_view_name": "LayoutView",
            "align_content": null,
            "align_items": null,
            "align_self": null,
            "border": null,
            "bottom": null,
            "display": null,
            "flex": null,
            "flex_flow": null,
            "grid_area": null,
            "grid_auto_columns": null,
            "grid_auto_flow": null,
            "grid_auto_rows": null,
            "grid_column": null,
            "grid_gap": null,
            "grid_row": null,
            "grid_template_areas": null,
            "grid_template_columns": null,
            "grid_template_rows": null,
            "height": null,
            "justify_content": null,
            "justify_items": null,
            "left": null,
            "margin": null,
            "max_height": null,
            "max_width": null,
            "min_height": null,
            "min_width": null,
            "object_fit": null,
            "object_position": null,
            "order": null,
            "overflow": null,
            "overflow_x": null,
            "overflow_y": null,
            "padding": null,
            "right": null,
            "top": null,
            "visibility": null,
            "width": null
          }
        },
        "21085bb1d03946838f57deb6d29f7d3c": {
          "model_module": "@jupyter-widgets/controls",
          "model_name": "DescriptionStyleModel",
          "model_module_version": "1.5.0",
          "state": {
            "_model_module": "@jupyter-widgets/controls",
            "_model_module_version": "1.5.0",
            "_model_name": "DescriptionStyleModel",
            "_view_count": null,
            "_view_module": "@jupyter-widgets/base",
            "_view_module_version": "1.2.0",
            "_view_name": "StyleView",
            "description_width": ""
          }
        },
        "bb1622e980524d5d8caad00922d7f192": {
          "model_module": "@jupyter-widgets/controls",
          "model_name": "HBoxModel",
          "model_module_version": "1.5.0",
          "state": {
            "_dom_classes": [],
            "_model_module": "@jupyter-widgets/controls",
            "_model_module_version": "1.5.0",
            "_model_name": "HBoxModel",
            "_view_count": null,
            "_view_module": "@jupyter-widgets/controls",
            "_view_module_version": "1.5.0",
            "_view_name": "HBoxView",
            "box_style": "",
            "children": [
              "IPY_MODEL_f321bf9be23c418a96bbde4e6961c3fd",
              "IPY_MODEL_7ebafd2fe4614e22a6b9ded9293d5ebb",
              "IPY_MODEL_39666be05b394c1c9f28dc34d581e712"
            ],
            "layout": "IPY_MODEL_0819568ca65542d7a33bca3cb30b97a2"
          }
        },
        "f321bf9be23c418a96bbde4e6961c3fd": {
          "model_module": "@jupyter-widgets/controls",
          "model_name": "HTMLModel",
          "model_module_version": "1.5.0",
          "state": {
            "_dom_classes": [],
            "_model_module": "@jupyter-widgets/controls",
            "_model_module_version": "1.5.0",
            "_model_name": "HTMLModel",
            "_view_count": null,
            "_view_module": "@jupyter-widgets/controls",
            "_view_module_version": "1.5.0",
            "_view_name": "HTMLView",
            "description": "",
            "description_tooltip": null,
            "layout": "IPY_MODEL_6eb3164b4e044ecbac4d4cb3f6a53869",
            "placeholder": "​",
            "style": "IPY_MODEL_30bf9e65a0d44050bb0b0ee0f7bc9f47",
            "value": "Generating train split: 100%"
          }
        },
        "7ebafd2fe4614e22a6b9ded9293d5ebb": {
          "model_module": "@jupyter-widgets/controls",
          "model_name": "FloatProgressModel",
          "model_module_version": "1.5.0",
          "state": {
            "_dom_classes": [],
            "_model_module": "@jupyter-widgets/controls",
            "_model_module_version": "1.5.0",
            "_model_name": "FloatProgressModel",
            "_view_count": null,
            "_view_module": "@jupyter-widgets/controls",
            "_view_module_version": "1.5.0",
            "_view_name": "ProgressView",
            "bar_style": "success",
            "description": "",
            "description_tooltip": null,
            "layout": "IPY_MODEL_5028b28e16164fa883ff7b63ec049860",
            "max": 14041,
            "min": 0,
            "orientation": "horizontal",
            "style": "IPY_MODEL_cc27763fe4594c90b47322dba21627a7",
            "value": 14041
          }
        },
        "39666be05b394c1c9f28dc34d581e712": {
          "model_module": "@jupyter-widgets/controls",
          "model_name": "HTMLModel",
          "model_module_version": "1.5.0",
          "state": {
            "_dom_classes": [],
            "_model_module": "@jupyter-widgets/controls",
            "_model_module_version": "1.5.0",
            "_model_name": "HTMLModel",
            "_view_count": null,
            "_view_module": "@jupyter-widgets/controls",
            "_view_module_version": "1.5.0",
            "_view_name": "HTMLView",
            "description": "",
            "description_tooltip": null,
            "layout": "IPY_MODEL_952c1a4cd5694b63b71509f6e5825991",
            "placeholder": "​",
            "style": "IPY_MODEL_4294ea50d3244b86b39f37863a84c1af",
            "value": " 14041/14041 [00:03&lt;00:00, 3963.68 examples/s]"
          }
        },
        "0819568ca65542d7a33bca3cb30b97a2": {
          "model_module": "@jupyter-widgets/base",
          "model_name": "LayoutModel",
          "model_module_version": "1.2.0",
          "state": {
            "_model_module": "@jupyter-widgets/base",
            "_model_module_version": "1.2.0",
            "_model_name": "LayoutModel",
            "_view_count": null,
            "_view_module": "@jupyter-widgets/base",
            "_view_module_version": "1.2.0",
            "_view_name": "LayoutView",
            "align_content": null,
            "align_items": null,
            "align_self": null,
            "border": null,
            "bottom": null,
            "display": null,
            "flex": null,
            "flex_flow": null,
            "grid_area": null,
            "grid_auto_columns": null,
            "grid_auto_flow": null,
            "grid_auto_rows": null,
            "grid_column": null,
            "grid_gap": null,
            "grid_row": null,
            "grid_template_areas": null,
            "grid_template_columns": null,
            "grid_template_rows": null,
            "height": null,
            "justify_content": null,
            "justify_items": null,
            "left": null,
            "margin": null,
            "max_height": null,
            "max_width": null,
            "min_height": null,
            "min_width": null,
            "object_fit": null,
            "object_position": null,
            "order": null,
            "overflow": null,
            "overflow_x": null,
            "overflow_y": null,
            "padding": null,
            "right": null,
            "top": null,
            "visibility": null,
            "width": null
          }
        },
        "6eb3164b4e044ecbac4d4cb3f6a53869": {
          "model_module": "@jupyter-widgets/base",
          "model_name": "LayoutModel",
          "model_module_version": "1.2.0",
          "state": {
            "_model_module": "@jupyter-widgets/base",
            "_model_module_version": "1.2.0",
            "_model_name": "LayoutModel",
            "_view_count": null,
            "_view_module": "@jupyter-widgets/base",
            "_view_module_version": "1.2.0",
            "_view_name": "LayoutView",
            "align_content": null,
            "align_items": null,
            "align_self": null,
            "border": null,
            "bottom": null,
            "display": null,
            "flex": null,
            "flex_flow": null,
            "grid_area": null,
            "grid_auto_columns": null,
            "grid_auto_flow": null,
            "grid_auto_rows": null,
            "grid_column": null,
            "grid_gap": null,
            "grid_row": null,
            "grid_template_areas": null,
            "grid_template_columns": null,
            "grid_template_rows": null,
            "height": null,
            "justify_content": null,
            "justify_items": null,
            "left": null,
            "margin": null,
            "max_height": null,
            "max_width": null,
            "min_height": null,
            "min_width": null,
            "object_fit": null,
            "object_position": null,
            "order": null,
            "overflow": null,
            "overflow_x": null,
            "overflow_y": null,
            "padding": null,
            "right": null,
            "top": null,
            "visibility": null,
            "width": null
          }
        },
        "30bf9e65a0d44050bb0b0ee0f7bc9f47": {
          "model_module": "@jupyter-widgets/controls",
          "model_name": "DescriptionStyleModel",
          "model_module_version": "1.5.0",
          "state": {
            "_model_module": "@jupyter-widgets/controls",
            "_model_module_version": "1.5.0",
            "_model_name": "DescriptionStyleModel",
            "_view_count": null,
            "_view_module": "@jupyter-widgets/base",
            "_view_module_version": "1.2.0",
            "_view_name": "StyleView",
            "description_width": ""
          }
        },
        "5028b28e16164fa883ff7b63ec049860": {
          "model_module": "@jupyter-widgets/base",
          "model_name": "LayoutModel",
          "model_module_version": "1.2.0",
          "state": {
            "_model_module": "@jupyter-widgets/base",
            "_model_module_version": "1.2.0",
            "_model_name": "LayoutModel",
            "_view_count": null,
            "_view_module": "@jupyter-widgets/base",
            "_view_module_version": "1.2.0",
            "_view_name": "LayoutView",
            "align_content": null,
            "align_items": null,
            "align_self": null,
            "border": null,
            "bottom": null,
            "display": null,
            "flex": null,
            "flex_flow": null,
            "grid_area": null,
            "grid_auto_columns": null,
            "grid_auto_flow": null,
            "grid_auto_rows": null,
            "grid_column": null,
            "grid_gap": null,
            "grid_row": null,
            "grid_template_areas": null,
            "grid_template_columns": null,
            "grid_template_rows": null,
            "height": null,
            "justify_content": null,
            "justify_items": null,
            "left": null,
            "margin": null,
            "max_height": null,
            "max_width": null,
            "min_height": null,
            "min_width": null,
            "object_fit": null,
            "object_position": null,
            "order": null,
            "overflow": null,
            "overflow_x": null,
            "overflow_y": null,
            "padding": null,
            "right": null,
            "top": null,
            "visibility": null,
            "width": null
          }
        },
        "cc27763fe4594c90b47322dba21627a7": {
          "model_module": "@jupyter-widgets/controls",
          "model_name": "ProgressStyleModel",
          "model_module_version": "1.5.0",
          "state": {
            "_model_module": "@jupyter-widgets/controls",
            "_model_module_version": "1.5.0",
            "_model_name": "ProgressStyleModel",
            "_view_count": null,
            "_view_module": "@jupyter-widgets/base",
            "_view_module_version": "1.2.0",
            "_view_name": "StyleView",
            "bar_color": null,
            "description_width": ""
          }
        },
        "952c1a4cd5694b63b71509f6e5825991": {
          "model_module": "@jupyter-widgets/base",
          "model_name": "LayoutModel",
          "model_module_version": "1.2.0",
          "state": {
            "_model_module": "@jupyter-widgets/base",
            "_model_module_version": "1.2.0",
            "_model_name": "LayoutModel",
            "_view_count": null,
            "_view_module": "@jupyter-widgets/base",
            "_view_module_version": "1.2.0",
            "_view_name": "LayoutView",
            "align_content": null,
            "align_items": null,
            "align_self": null,
            "border": null,
            "bottom": null,
            "display": null,
            "flex": null,
            "flex_flow": null,
            "grid_area": null,
            "grid_auto_columns": null,
            "grid_auto_flow": null,
            "grid_auto_rows": null,
            "grid_column": null,
            "grid_gap": null,
            "grid_row": null,
            "grid_template_areas": null,
            "grid_template_columns": null,
            "grid_template_rows": null,
            "height": null,
            "justify_content": null,
            "justify_items": null,
            "left": null,
            "margin": null,
            "max_height": null,
            "max_width": null,
            "min_height": null,
            "min_width": null,
            "object_fit": null,
            "object_position": null,
            "order": null,
            "overflow": null,
            "overflow_x": null,
            "overflow_y": null,
            "padding": null,
            "right": null,
            "top": null,
            "visibility": null,
            "width": null
          }
        },
        "4294ea50d3244b86b39f37863a84c1af": {
          "model_module": "@jupyter-widgets/controls",
          "model_name": "DescriptionStyleModel",
          "model_module_version": "1.5.0",
          "state": {
            "_model_module": "@jupyter-widgets/controls",
            "_model_module_version": "1.5.0",
            "_model_name": "DescriptionStyleModel",
            "_view_count": null,
            "_view_module": "@jupyter-widgets/base",
            "_view_module_version": "1.2.0",
            "_view_name": "StyleView",
            "description_width": ""
          }
        },
        "9a9b76b8772c4651a36dc7906cce9ef3": {
          "model_module": "@jupyter-widgets/controls",
          "model_name": "HBoxModel",
          "model_module_version": "1.5.0",
          "state": {
            "_dom_classes": [],
            "_model_module": "@jupyter-widgets/controls",
            "_model_module_version": "1.5.0",
            "_model_name": "HBoxModel",
            "_view_count": null,
            "_view_module": "@jupyter-widgets/controls",
            "_view_module_version": "1.5.0",
            "_view_name": "HBoxView",
            "box_style": "",
            "children": [
              "IPY_MODEL_9201334c34ea4a8a93f452726f3819b0",
              "IPY_MODEL_d1d1689fdebc415db840f72ad2b91f53",
              "IPY_MODEL_744d3459b7094b758909d0d88da3271f"
            ],
            "layout": "IPY_MODEL_33be4043054e47f5b3634202ba89a6e2"
          }
        },
        "9201334c34ea4a8a93f452726f3819b0": {
          "model_module": "@jupyter-widgets/controls",
          "model_name": "HTMLModel",
          "model_module_version": "1.5.0",
          "state": {
            "_dom_classes": [],
            "_model_module": "@jupyter-widgets/controls",
            "_model_module_version": "1.5.0",
            "_model_name": "HTMLModel",
            "_view_count": null,
            "_view_module": "@jupyter-widgets/controls",
            "_view_module_version": "1.5.0",
            "_view_name": "HTMLView",
            "description": "",
            "description_tooltip": null,
            "layout": "IPY_MODEL_3514bcc72d074b6ea096843d8dae4ca2",
            "placeholder": "​",
            "style": "IPY_MODEL_f80e45772849445f92cd5f05a6d29281",
            "value": "Generating validation split: 100%"
          }
        },
        "d1d1689fdebc415db840f72ad2b91f53": {
          "model_module": "@jupyter-widgets/controls",
          "model_name": "FloatProgressModel",
          "model_module_version": "1.5.0",
          "state": {
            "_dom_classes": [],
            "_model_module": "@jupyter-widgets/controls",
            "_model_module_version": "1.5.0",
            "_model_name": "FloatProgressModel",
            "_view_count": null,
            "_view_module": "@jupyter-widgets/controls",
            "_view_module_version": "1.5.0",
            "_view_name": "ProgressView",
            "bar_style": "success",
            "description": "",
            "description_tooltip": null,
            "layout": "IPY_MODEL_749b789eac5a413cadaa329cfedf9e7b",
            "max": 3250,
            "min": 0,
            "orientation": "horizontal",
            "style": "IPY_MODEL_4ebee86253554c74af22e5e407cace6e",
            "value": 3250
          }
        },
        "744d3459b7094b758909d0d88da3271f": {
          "model_module": "@jupyter-widgets/controls",
          "model_name": "HTMLModel",
          "model_module_version": "1.5.0",
          "state": {
            "_dom_classes": [],
            "_model_module": "@jupyter-widgets/controls",
            "_model_module_version": "1.5.0",
            "_model_name": "HTMLModel",
            "_view_count": null,
            "_view_module": "@jupyter-widgets/controls",
            "_view_module_version": "1.5.0",
            "_view_name": "HTMLView",
            "description": "",
            "description_tooltip": null,
            "layout": "IPY_MODEL_b4c70e28c289438388cba60fbc144307",
            "placeholder": "​",
            "style": "IPY_MODEL_014e6f79986e4932a5413f7253d36d02",
            "value": " 3250/3250 [00:00&lt;00:00, 3488.63 examples/s]"
          }
        },
        "33be4043054e47f5b3634202ba89a6e2": {
          "model_module": "@jupyter-widgets/base",
          "model_name": "LayoutModel",
          "model_module_version": "1.2.0",
          "state": {
            "_model_module": "@jupyter-widgets/base",
            "_model_module_version": "1.2.0",
            "_model_name": "LayoutModel",
            "_view_count": null,
            "_view_module": "@jupyter-widgets/base",
            "_view_module_version": "1.2.0",
            "_view_name": "LayoutView",
            "align_content": null,
            "align_items": null,
            "align_self": null,
            "border": null,
            "bottom": null,
            "display": null,
            "flex": null,
            "flex_flow": null,
            "grid_area": null,
            "grid_auto_columns": null,
            "grid_auto_flow": null,
            "grid_auto_rows": null,
            "grid_column": null,
            "grid_gap": null,
            "grid_row": null,
            "grid_template_areas": null,
            "grid_template_columns": null,
            "grid_template_rows": null,
            "height": null,
            "justify_content": null,
            "justify_items": null,
            "left": null,
            "margin": null,
            "max_height": null,
            "max_width": null,
            "min_height": null,
            "min_width": null,
            "object_fit": null,
            "object_position": null,
            "order": null,
            "overflow": null,
            "overflow_x": null,
            "overflow_y": null,
            "padding": null,
            "right": null,
            "top": null,
            "visibility": null,
            "width": null
          }
        },
        "3514bcc72d074b6ea096843d8dae4ca2": {
          "model_module": "@jupyter-widgets/base",
          "model_name": "LayoutModel",
          "model_module_version": "1.2.0",
          "state": {
            "_model_module": "@jupyter-widgets/base",
            "_model_module_version": "1.2.0",
            "_model_name": "LayoutModel",
            "_view_count": null,
            "_view_module": "@jupyter-widgets/base",
            "_view_module_version": "1.2.0",
            "_view_name": "LayoutView",
            "align_content": null,
            "align_items": null,
            "align_self": null,
            "border": null,
            "bottom": null,
            "display": null,
            "flex": null,
            "flex_flow": null,
            "grid_area": null,
            "grid_auto_columns": null,
            "grid_auto_flow": null,
            "grid_auto_rows": null,
            "grid_column": null,
            "grid_gap": null,
            "grid_row": null,
            "grid_template_areas": null,
            "grid_template_columns": null,
            "grid_template_rows": null,
            "height": null,
            "justify_content": null,
            "justify_items": null,
            "left": null,
            "margin": null,
            "max_height": null,
            "max_width": null,
            "min_height": null,
            "min_width": null,
            "object_fit": null,
            "object_position": null,
            "order": null,
            "overflow": null,
            "overflow_x": null,
            "overflow_y": null,
            "padding": null,
            "right": null,
            "top": null,
            "visibility": null,
            "width": null
          }
        },
        "f80e45772849445f92cd5f05a6d29281": {
          "model_module": "@jupyter-widgets/controls",
          "model_name": "DescriptionStyleModel",
          "model_module_version": "1.5.0",
          "state": {
            "_model_module": "@jupyter-widgets/controls",
            "_model_module_version": "1.5.0",
            "_model_name": "DescriptionStyleModel",
            "_view_count": null,
            "_view_module": "@jupyter-widgets/base",
            "_view_module_version": "1.2.0",
            "_view_name": "StyleView",
            "description_width": ""
          }
        },
        "749b789eac5a413cadaa329cfedf9e7b": {
          "model_module": "@jupyter-widgets/base",
          "model_name": "LayoutModel",
          "model_module_version": "1.2.0",
          "state": {
            "_model_module": "@jupyter-widgets/base",
            "_model_module_version": "1.2.0",
            "_model_name": "LayoutModel",
            "_view_count": null,
            "_view_module": "@jupyter-widgets/base",
            "_view_module_version": "1.2.0",
            "_view_name": "LayoutView",
            "align_content": null,
            "align_items": null,
            "align_self": null,
            "border": null,
            "bottom": null,
            "display": null,
            "flex": null,
            "flex_flow": null,
            "grid_area": null,
            "grid_auto_columns": null,
            "grid_auto_flow": null,
            "grid_auto_rows": null,
            "grid_column": null,
            "grid_gap": null,
            "grid_row": null,
            "grid_template_areas": null,
            "grid_template_columns": null,
            "grid_template_rows": null,
            "height": null,
            "justify_content": null,
            "justify_items": null,
            "left": null,
            "margin": null,
            "max_height": null,
            "max_width": null,
            "min_height": null,
            "min_width": null,
            "object_fit": null,
            "object_position": null,
            "order": null,
            "overflow": null,
            "overflow_x": null,
            "overflow_y": null,
            "padding": null,
            "right": null,
            "top": null,
            "visibility": null,
            "width": null
          }
        },
        "4ebee86253554c74af22e5e407cace6e": {
          "model_module": "@jupyter-widgets/controls",
          "model_name": "ProgressStyleModel",
          "model_module_version": "1.5.0",
          "state": {
            "_model_module": "@jupyter-widgets/controls",
            "_model_module_version": "1.5.0",
            "_model_name": "ProgressStyleModel",
            "_view_count": null,
            "_view_module": "@jupyter-widgets/base",
            "_view_module_version": "1.2.0",
            "_view_name": "StyleView",
            "bar_color": null,
            "description_width": ""
          }
        },
        "b4c70e28c289438388cba60fbc144307": {
          "model_module": "@jupyter-widgets/base",
          "model_name": "LayoutModel",
          "model_module_version": "1.2.0",
          "state": {
            "_model_module": "@jupyter-widgets/base",
            "_model_module_version": "1.2.0",
            "_model_name": "LayoutModel",
            "_view_count": null,
            "_view_module": "@jupyter-widgets/base",
            "_view_module_version": "1.2.0",
            "_view_name": "LayoutView",
            "align_content": null,
            "align_items": null,
            "align_self": null,
            "border": null,
            "bottom": null,
            "display": null,
            "flex": null,
            "flex_flow": null,
            "grid_area": null,
            "grid_auto_columns": null,
            "grid_auto_flow": null,
            "grid_auto_rows": null,
            "grid_column": null,
            "grid_gap": null,
            "grid_row": null,
            "grid_template_areas": null,
            "grid_template_columns": null,
            "grid_template_rows": null,
            "height": null,
            "justify_content": null,
            "justify_items": null,
            "left": null,
            "margin": null,
            "max_height": null,
            "max_width": null,
            "min_height": null,
            "min_width": null,
            "object_fit": null,
            "object_position": null,
            "order": null,
            "overflow": null,
            "overflow_x": null,
            "overflow_y": null,
            "padding": null,
            "right": null,
            "top": null,
            "visibility": null,
            "width": null
          }
        },
        "014e6f79986e4932a5413f7253d36d02": {
          "model_module": "@jupyter-widgets/controls",
          "model_name": "DescriptionStyleModel",
          "model_module_version": "1.5.0",
          "state": {
            "_model_module": "@jupyter-widgets/controls",
            "_model_module_version": "1.5.0",
            "_model_name": "DescriptionStyleModel",
            "_view_count": null,
            "_view_module": "@jupyter-widgets/base",
            "_view_module_version": "1.2.0",
            "_view_name": "StyleView",
            "description_width": ""
          }
        },
        "cb7c5d8bf22c484cbb81aac8b7346d3b": {
          "model_module": "@jupyter-widgets/controls",
          "model_name": "HBoxModel",
          "model_module_version": "1.5.0",
          "state": {
            "_dom_classes": [],
            "_model_module": "@jupyter-widgets/controls",
            "_model_module_version": "1.5.0",
            "_model_name": "HBoxModel",
            "_view_count": null,
            "_view_module": "@jupyter-widgets/controls",
            "_view_module_version": "1.5.0",
            "_view_name": "HBoxView",
            "box_style": "",
            "children": [
              "IPY_MODEL_16fe0819811d4baf97249b063ad87dc1",
              "IPY_MODEL_4ab9cdf7f0364836ba942af39bb8283f",
              "IPY_MODEL_314d78e548f04d0882bcd06b979be6df"
            ],
            "layout": "IPY_MODEL_07c54f4564944a9ca37158625a9f29c1"
          }
        },
        "16fe0819811d4baf97249b063ad87dc1": {
          "model_module": "@jupyter-widgets/controls",
          "model_name": "HTMLModel",
          "model_module_version": "1.5.0",
          "state": {
            "_dom_classes": [],
            "_model_module": "@jupyter-widgets/controls",
            "_model_module_version": "1.5.0",
            "_model_name": "HTMLModel",
            "_view_count": null,
            "_view_module": "@jupyter-widgets/controls",
            "_view_module_version": "1.5.0",
            "_view_name": "HTMLView",
            "description": "",
            "description_tooltip": null,
            "layout": "IPY_MODEL_e0a82ada878d462db2e176dac768ba3f",
            "placeholder": "​",
            "style": "IPY_MODEL_3f5717dcf9c7484db00cfec752f4c285",
            "value": "Generating test split: 100%"
          }
        },
        "4ab9cdf7f0364836ba942af39bb8283f": {
          "model_module": "@jupyter-widgets/controls",
          "model_name": "FloatProgressModel",
          "model_module_version": "1.5.0",
          "state": {
            "_dom_classes": [],
            "_model_module": "@jupyter-widgets/controls",
            "_model_module_version": "1.5.0",
            "_model_name": "FloatProgressModel",
            "_view_count": null,
            "_view_module": "@jupyter-widgets/controls",
            "_view_module_version": "1.5.0",
            "_view_name": "ProgressView",
            "bar_style": "success",
            "description": "",
            "description_tooltip": null,
            "layout": "IPY_MODEL_45c23af0b4474c678a2526ee6e419963",
            "max": 3453,
            "min": 0,
            "orientation": "horizontal",
            "style": "IPY_MODEL_49da92b04e464dfe80004a847641eec6",
            "value": 3453
          }
        },
        "314d78e548f04d0882bcd06b979be6df": {
          "model_module": "@jupyter-widgets/controls",
          "model_name": "HTMLModel",
          "model_module_version": "1.5.0",
          "state": {
            "_dom_classes": [],
            "_model_module": "@jupyter-widgets/controls",
            "_model_module_version": "1.5.0",
            "_model_name": "HTMLModel",
            "_view_count": null,
            "_view_module": "@jupyter-widgets/controls",
            "_view_module_version": "1.5.0",
            "_view_name": "HTMLView",
            "description": "",
            "description_tooltip": null,
            "layout": "IPY_MODEL_a899d4873a664fd5a9ff999e2f756c4e",
            "placeholder": "​",
            "style": "IPY_MODEL_41b75b4d45bd42f7bdd6194db8501b16",
            "value": " 3453/3453 [00:00&lt;00:00, 4338.98 examples/s]"
          }
        },
        "07c54f4564944a9ca37158625a9f29c1": {
          "model_module": "@jupyter-widgets/base",
          "model_name": "LayoutModel",
          "model_module_version": "1.2.0",
          "state": {
            "_model_module": "@jupyter-widgets/base",
            "_model_module_version": "1.2.0",
            "_model_name": "LayoutModel",
            "_view_count": null,
            "_view_module": "@jupyter-widgets/base",
            "_view_module_version": "1.2.0",
            "_view_name": "LayoutView",
            "align_content": null,
            "align_items": null,
            "align_self": null,
            "border": null,
            "bottom": null,
            "display": null,
            "flex": null,
            "flex_flow": null,
            "grid_area": null,
            "grid_auto_columns": null,
            "grid_auto_flow": null,
            "grid_auto_rows": null,
            "grid_column": null,
            "grid_gap": null,
            "grid_row": null,
            "grid_template_areas": null,
            "grid_template_columns": null,
            "grid_template_rows": null,
            "height": null,
            "justify_content": null,
            "justify_items": null,
            "left": null,
            "margin": null,
            "max_height": null,
            "max_width": null,
            "min_height": null,
            "min_width": null,
            "object_fit": null,
            "object_position": null,
            "order": null,
            "overflow": null,
            "overflow_x": null,
            "overflow_y": null,
            "padding": null,
            "right": null,
            "top": null,
            "visibility": null,
            "width": null
          }
        },
        "e0a82ada878d462db2e176dac768ba3f": {
          "model_module": "@jupyter-widgets/base",
          "model_name": "LayoutModel",
          "model_module_version": "1.2.0",
          "state": {
            "_model_module": "@jupyter-widgets/base",
            "_model_module_version": "1.2.0",
            "_model_name": "LayoutModel",
            "_view_count": null,
            "_view_module": "@jupyter-widgets/base",
            "_view_module_version": "1.2.0",
            "_view_name": "LayoutView",
            "align_content": null,
            "align_items": null,
            "align_self": null,
            "border": null,
            "bottom": null,
            "display": null,
            "flex": null,
            "flex_flow": null,
            "grid_area": null,
            "grid_auto_columns": null,
            "grid_auto_flow": null,
            "grid_auto_rows": null,
            "grid_column": null,
            "grid_gap": null,
            "grid_row": null,
            "grid_template_areas": null,
            "grid_template_columns": null,
            "grid_template_rows": null,
            "height": null,
            "justify_content": null,
            "justify_items": null,
            "left": null,
            "margin": null,
            "max_height": null,
            "max_width": null,
            "min_height": null,
            "min_width": null,
            "object_fit": null,
            "object_position": null,
            "order": null,
            "overflow": null,
            "overflow_x": null,
            "overflow_y": null,
            "padding": null,
            "right": null,
            "top": null,
            "visibility": null,
            "width": null
          }
        },
        "3f5717dcf9c7484db00cfec752f4c285": {
          "model_module": "@jupyter-widgets/controls",
          "model_name": "DescriptionStyleModel",
          "model_module_version": "1.5.0",
          "state": {
            "_model_module": "@jupyter-widgets/controls",
            "_model_module_version": "1.5.0",
            "_model_name": "DescriptionStyleModel",
            "_view_count": null,
            "_view_module": "@jupyter-widgets/base",
            "_view_module_version": "1.2.0",
            "_view_name": "StyleView",
            "description_width": ""
          }
        },
        "45c23af0b4474c678a2526ee6e419963": {
          "model_module": "@jupyter-widgets/base",
          "model_name": "LayoutModel",
          "model_module_version": "1.2.0",
          "state": {
            "_model_module": "@jupyter-widgets/base",
            "_model_module_version": "1.2.0",
            "_model_name": "LayoutModel",
            "_view_count": null,
            "_view_module": "@jupyter-widgets/base",
            "_view_module_version": "1.2.0",
            "_view_name": "LayoutView",
            "align_content": null,
            "align_items": null,
            "align_self": null,
            "border": null,
            "bottom": null,
            "display": null,
            "flex": null,
            "flex_flow": null,
            "grid_area": null,
            "grid_auto_columns": null,
            "grid_auto_flow": null,
            "grid_auto_rows": null,
            "grid_column": null,
            "grid_gap": null,
            "grid_row": null,
            "grid_template_areas": null,
            "grid_template_columns": null,
            "grid_template_rows": null,
            "height": null,
            "justify_content": null,
            "justify_items": null,
            "left": null,
            "margin": null,
            "max_height": null,
            "max_width": null,
            "min_height": null,
            "min_width": null,
            "object_fit": null,
            "object_position": null,
            "order": null,
            "overflow": null,
            "overflow_x": null,
            "overflow_y": null,
            "padding": null,
            "right": null,
            "top": null,
            "visibility": null,
            "width": null
          }
        },
        "49da92b04e464dfe80004a847641eec6": {
          "model_module": "@jupyter-widgets/controls",
          "model_name": "ProgressStyleModel",
          "model_module_version": "1.5.0",
          "state": {
            "_model_module": "@jupyter-widgets/controls",
            "_model_module_version": "1.5.0",
            "_model_name": "ProgressStyleModel",
            "_view_count": null,
            "_view_module": "@jupyter-widgets/base",
            "_view_module_version": "1.2.0",
            "_view_name": "StyleView",
            "bar_color": null,
            "description_width": ""
          }
        },
        "a899d4873a664fd5a9ff999e2f756c4e": {
          "model_module": "@jupyter-widgets/base",
          "model_name": "LayoutModel",
          "model_module_version": "1.2.0",
          "state": {
            "_model_module": "@jupyter-widgets/base",
            "_model_module_version": "1.2.0",
            "_model_name": "LayoutModel",
            "_view_count": null,
            "_view_module": "@jupyter-widgets/base",
            "_view_module_version": "1.2.0",
            "_view_name": "LayoutView",
            "align_content": null,
            "align_items": null,
            "align_self": null,
            "border": null,
            "bottom": null,
            "display": null,
            "flex": null,
            "flex_flow": null,
            "grid_area": null,
            "grid_auto_columns": null,
            "grid_auto_flow": null,
            "grid_auto_rows": null,
            "grid_column": null,
            "grid_gap": null,
            "grid_row": null,
            "grid_template_areas": null,
            "grid_template_columns": null,
            "grid_template_rows": null,
            "height": null,
            "justify_content": null,
            "justify_items": null,
            "left": null,
            "margin": null,
            "max_height": null,
            "max_width": null,
            "min_height": null,
            "min_width": null,
            "object_fit": null,
            "object_position": null,
            "order": null,
            "overflow": null,
            "overflow_x": null,
            "overflow_y": null,
            "padding": null,
            "right": null,
            "top": null,
            "visibility": null,
            "width": null
          }
        },
        "41b75b4d45bd42f7bdd6194db8501b16": {
          "model_module": "@jupyter-widgets/controls",
          "model_name": "DescriptionStyleModel",
          "model_module_version": "1.5.0",
          "state": {
            "_model_module": "@jupyter-widgets/controls",
            "_model_module_version": "1.5.0",
            "_model_name": "DescriptionStyleModel",
            "_view_count": null,
            "_view_module": "@jupyter-widgets/base",
            "_view_module_version": "1.2.0",
            "_view_name": "StyleView",
            "description_width": ""
          }
        }
      }
    }
  },
  "nbformat": 4,
  "nbformat_minor": 5
}